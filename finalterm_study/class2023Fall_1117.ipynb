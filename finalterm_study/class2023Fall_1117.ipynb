{
  "nbformat": 4,
  "nbformat_minor": 0,
  "metadata": {
    "colab": {
      "provenance": [],
      "include_colab_link": true
    },
    "kernelspec": {
      "name": "python3",
      "display_name": "Python 3"
    },
    "language_info": {
      "name": "python"
    }
  },
  "cells": [
    {
      "cell_type": "markdown",
      "metadata": {
        "id": "view-in-github",
        "colab_type": "text"
      },
      "source": [
        "<a href=\"https://colab.research.google.com/github/cocomarine25/LBnC/blob/main/finalterm_study/class2023Fall_1117.ipynb\" target=\"_parent\"><img src=\"https://colab.research.google.com/assets/colab-badge.svg\" alt=\"Open In Colab\"/></a>"
      ]
    },
    {
      "cell_type": "code",
      "execution_count": 2,
      "metadata": {
        "colab": {
          "base_uri": "https://localhost:8080/"
        },
        "id": "55Ualnc-DVw9",
        "outputId": "c76bd6e9-89ac-48d5-8553-7ecb046ba7a5"
      },
      "outputs": [
        {
          "output_type": "stream",
          "name": "stdout",
          "text": [
            "1/1 [==============================] - 1s 914ms/step\n",
            "Downloading data from https://storage.googleapis.com/download.tensorflow.org/data/imagenet_class_index.json\n",
            "35363/35363 [==============================] - 0s 0us/step\n",
            "1: bell_cote (0.15)\n",
            "2: jean (0.08)\n",
            "3: poncho (0.06)\n",
            "1/1 [==============================] - 1s 660ms/step\n",
            "1: minivan (0.39)\n",
            "2: minibus (0.27)\n",
            "3: cab (0.11)\n",
            "1/1 [==============================] - 1s 1s/step\n",
            "1: rubber_eraser (0.12)\n",
            "2: parachute (0.07)\n",
            "3: maraca (0.06)\n",
            "1/1 [==============================] - 1s 1s/step\n",
            "1: pencil_sharpener (0.25)\n",
            "2: rubber_eraser (0.13)\n",
            "3: carton (0.06)\n"
          ]
        }
      ],
      "source": [
        "# Import necessary libraries\n",
        "import numpy as np\n",
        "import tensorflow as tf\n",
        "from tensorflow.keras.preprocessing import image\n",
        "from tensorflow.keras.applications.vgg16 import VGG16, preprocess_input, decode_predictions\n",
        "\n",
        "# Load the pre-trained VGG16 model\n",
        "model = VGG16(weights='imagenet')\n",
        "\n",
        "# Function to predict the class of an image\n",
        "def predict_image_class(image_path):\n",
        "    # Load and preprocess the image\n",
        "    img = image.load_img(image_path, target_size=(224, 224))\n",
        "    img = image.img_to_array(img)\n",
        "    img = np.expand_dims(img, axis=0)\n",
        "    img = preprocess_input(img)\n",
        "\n",
        "    # Make predictions\n",
        "    predictions = model.predict(img)\n",
        "    decoded_predictions = decode_predictions(predictions, top=3)[0]\n",
        "\n",
        "    # Print the top predictions\n",
        "    for i, (imagenet_id, label, score) in enumerate(decoded_predictions):\n",
        "        print(f\"{i + 1}: {label} ({score:.2f})\")\n",
        "\n",
        "\n",
        "# Predict the class of the uploaded image\n",
        "image_filename_0 = \"0.jpg\"\n",
        "image_filename_1 = \"1.jpg\"\n",
        "image_filename_2 = \"2.jpg\"\n",
        "image_filename_3 = \"3.jpg\"\n",
        "predict_image_class(image_filename_0)\n",
        "predict_image_class(image_filename_1)\n",
        "predict_image_class(image_filename_2)\n",
        "predict_image_class(image_filename_3)\n"
      ]
    }
  ]
}