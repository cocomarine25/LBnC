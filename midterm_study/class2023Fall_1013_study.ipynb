{
  "nbformat": 4,
  "nbformat_minor": 0,
  "metadata": {
    "colab": {
      "provenance": [],
      "include_colab_link": true
    },
    "kernelspec": {
      "name": "python3",
      "display_name": "Python 3"
    },
    "language_info": {
      "name": "python"
    }
  },
  "cells": [
    {
      "cell_type": "markdown",
      "metadata": {
        "id": "view-in-github",
        "colab_type": "text"
      },
      "source": [
        "<a href=\"https://colab.research.google.com/github/cocomarine25/LBnC/blob/main/midterm_study/class2023Fall_1013_study.ipynb\" target=\"_parent\"><img src=\"https://colab.research.google.com/assets/colab-badge.svg\" alt=\"Open In Colab\"/></a>"
      ]
    },
    {
      "cell_type": "markdown",
      "source": [
        "---\n",
        "## Lecture 1: Connecting to Databases\n",
        "\n",
        "**Objective:** Learn how to install and connect to databases like MySQL and SQLite using Python.\n",
        "\n",
        "### Introduction\n",
        "- **Why Connect to Databases?**: In data analysis and manipulation, databases serve as repositories for structured data. Connecting to databases allows us to fetch, update, and manage this data programmatically using Python.\n",
        "\n",
        "### Code Demonstration"
      ],
      "metadata": {
        "id": "87czmL6Bpk0V"
      }
    },
    {
      "cell_type": "code",
      "source": [
        "# Install MySQL Server\n",
        "!apt-get update\n",
        "!apt-get install mysql-server\n",
        "\n",
        "# Start the MySQL service\n",
        "!service mysql start"
      ],
      "metadata": {
        "id": "wCyKbPARp-bU"
      },
      "execution_count": null,
      "outputs": []
    },
    {
      "cell_type": "code",
      "source": [
        "# Log in to MySQL as root\n",
        "!mysql -u root"
      ],
      "metadata": {
        "id": "6Ffr8RaIyxHG"
      },
      "execution_count": null,
      "outputs": []
    },
    {
      "cell_type": "markdown",
      "source": [
        "```mysql\n",
        "DROP USER IF EXISTS 'test'@'localhost';\n",
        "CREATE USER 'test'@'localhost' IDENTIFIED WITH 'mysql_native_password' BY '1234';\n",
        "GRANT ALL PRIVILEGES ON *.* TO 'test'@'localhost' WITH GRANT OPTION;\n",
        "FLUSH PRIVILEGES;\n",
        "```"
      ],
      "metadata": {
        "id": "-jHO9XvTtDvS"
      }
    },
    {
      "cell_type": "markdown",
      "source": [
        "```mysql\n",
        "DROP DATABASE IF EXISTS TestDataset;\n",
        "CREATE DATABASE TestDataset;\n",
        "CREATE TABLE TestDataset.TestTable (\n",
        "    ID INT AUTO_INCREMENT PRIMARY KEY,\n",
        "    Name VARCHAR(255),\n",
        "    Age INT\n",
        ");\n",
        "INSERT INTO TestDataset.TestTable (Name, Age) VALUES\n",
        "('John', 30),\n",
        "('Alice', 25),\n",
        "('Bob', 35);\n",
        "exit;\n",
        "```"
      ],
      "metadata": {
        "id": "-l4hzR8bytB_"
      }
    },
    {
      "cell_type": "code",
      "source": [
        "!pip uninstall mysql-connector\n",
        "!pip uninstall mysql-connector-python\n",
        "!pip install mysql-connector-python"
      ],
      "metadata": {
        "id": "dQ_bGQ6Qx2Pc"
      },
      "execution_count": null,
      "outputs": []
    },
    {
      "cell_type": "code",
      "source": [
        "# Import the necessary libraries\n",
        "import mysql.connector\n",
        "\n",
        "# Connect to MySQL\n",
        "mysql_conn = mysql.connector.connect(\n",
        "    host=\"localhost\",  # Database server address\n",
        "    user=\"test\",  # Database username\n",
        "    password=\"1234\",  # User's password\n",
        "    database=\"TestDataset\" # Name of the database\n",
        ")\n"
      ],
      "metadata": {
        "id": "ALdvUalBplGp"
      },
      "execution_count": null,
      "outputs": []
    },
    {
      "cell_type": "markdown",
      "source": [
        "---\n",
        "## Lecture 2: Executing SQL Queries\n",
        "\n",
        "**Objective:** Learn how to execute SQL queries using Python.\n",
        "\n",
        "### Introduction\n",
        "- **Importance of SQL**: SQL (Structured Query Language) is used to interact with databases. Python can be used to execute SQL queries, making it a powerful tool for working with databases.\n",
        "\n",
        "### Code Demonstration"
      ],
      "metadata": {
        "id": "tQU6TsCRo8Nq"
      }
    },
    {
      "cell_type": "code",
      "source": [
        "# Create a cursor object\n",
        "mysql_cursor = mysql_conn.cursor(buffered=True)\n",
        "\n",
        "# Execute SQL queries\n",
        "mysql_cursor.execute(\"SELECT * FROM TestDataset.TestTable\")\n",
        "\n",
        "# Fetch data from the queries\n",
        "mysql_result = mysql_cursor.fetchall()\n",
        "\n",
        "print(mysql_result)"
      ],
      "metadata": {
        "id": "1ozq4u45psK5"
      },
      "execution_count": null,
      "outputs": []
    },
    {
      "cell_type": "markdown",
      "source": [
        "\n",
        "---\n",
        "## Lecture 3: CRUD Operations\n",
        "\n",
        "**Objective:** Learn how to perform CRUD operations (Create, Read, Update, Delete) on a database using Python.\n",
        "\n",
        "### Introduction\n",
        "- **CRUD Operations**: CRUD stands for Create, Read, Update, and Delete. These are fundamental database operations used to manipulate data within a database.\n",
        "\n",
        "### Code Demonstration"
      ],
      "metadata": {
        "id": "z8BMDJ8NptFG"
      }
    },
    {
      "cell_type": "code",
      "source": [
        "# CREATE: Insert a new record\n",
        "mysql_cursor.execute(\"INSERT INTO TestDataset.TestTable (Name, Age) VALUES (%s, %s)\", (\"John Doe\", 30))\n",
        "mysql_cursor.execute(\"SELECT * FROM TestDataset.TestTable\")\n",
        "mysql_result = mysql_cursor.fetchall()\n",
        "print(f\"CREATE exampl: {mysql_result}\")\n",
        "\n",
        "# READ: Retrieve data\n",
        "mysql_cursor.execute(\"SELECT * FROM TestDataset.TestTable WHERE Name = 'John Doe'\")\n",
        "mysql_result = mysql_cursor.fetchone()\n",
        "print(f\"READ example: {mysql_result}\")\n",
        "\n",
        "\n",
        "# UPDATE: Update existing data\n",
        "mysql_cursor.execute(\"UPDATE TestDataset.TestTable SET Age = 31 WHERE Name = 'John Doe'\")\n",
        "mysql_cursor.execute(\"SELECT * FROM TestDataset.TestTable\")\n",
        "mysql_result = mysql_cursor.fetchall()\n",
        "print(f\"UPDATE example: {mysql_result}\")\n",
        "\n",
        "\n",
        "# DELETE: Delete data\n",
        "mysql_cursor.execute(\"DELETE FROM TestDataset.TestTable WHERE Name = 'John Doe'\")\n",
        "mysql_cursor.execute(\"SELECT * FROM TestDataset.TestTable\")\n",
        "mysql_result = mysql_cursor.fetchall()\n",
        "print(f\"DELETE example: {mysql_result}\")\n"
      ],
      "metadata": {
        "id": "JmWHwt8Hz3uJ"
      },
      "execution_count": null,
      "outputs": []
    },
    {
      "cell_type": "markdown",
      "source": [
        "---\n",
        "## Lecture 4: Working with Database Libraries\n",
        "\n",
        "**Objective:** Learn how to work with data using database libraries in Python.\n",
        "\n",
        "### Introduction\n",
        "- **Python Libraries**: Python offers several libraries and tools for data manipulation and analysis. We can leverage these libraries to work with database data effectively.\n",
        "\n",
        "### Code Demonstration\n"
      ],
      "metadata": {
        "id": "mWTzIhivz5-f"
      }
    },
    {
      "cell_type": "code",
      "source": [
        "# Using pandas for data manipulation\n",
        "import pandas as pd\n",
        "\n",
        "# Retrieve data from the database and create a DataFrame\n",
        "mysql_cursor.execute(\"SELECT * FROM TestDataset.TestTable\")\n",
        "data = mysql_cursor.fetchall()\n",
        "df = pd.DataFrame(data, columns=[\"ID\", \"Name\", \"Age\"])\n",
        "print(df)\n",
        "\n",
        "# Perform data analysis with pandas\n",
        "average_age = df[\"Age\"].mean()\n",
        "print(average_age)"
      ],
      "metadata": {
        "id": "nBKkwKs60lOz"
      },
      "execution_count": null,
      "outputs": []
    },
    {
      "cell_type": "markdown",
      "source": [
        "**------------------------------코드 연습 시작 !------------------------------**"
      ],
      "metadata": {
        "id": "faRGKOjY3OrT"
      }
    },
    {
      "cell_type": "markdown",
      "source": [
        "**Connecting to Databases**"
      ],
      "metadata": {
        "id": "zm5vsX1F33Zb"
      }
    },
    {
      "cell_type": "code",
      "source": [
        "# 구글 컴퓨터의 운영체제는 윈도우가 아니라 우분트다.\n",
        "# 우리가 오픈한 것은 daemon이라 뒤에서 작동중이다.\n",
        "# 데이터베이스를 만드는 과정은 웹사이트에서 아이디 저장 기능을 위해 필요하다.\n",
        "\n",
        "# Install MySQL Server\n",
        "!apt-get update # gpt-get은 설치하겠다는 의미다.\n",
        "!apt-get install mysql-server # apt에게 mysql을 다운로드해달라는 의미다.\n",
        "\n",
        "# Start the MySQL service\n",
        "!service mysql start # mysql 실행해줘"
      ],
      "metadata": {
        "id": "p9-OKNmI3UPu",
        "outputId": "66934234-793c-4ac6-ef3f-3e2d0eaa3f32",
        "colab": {
          "base_uri": "https://localhost:8080/"
        }
      },
      "execution_count": 2,
      "outputs": [
        {
          "output_type": "stream",
          "name": "stdout",
          "text": [
            "\r0% [Working]\r            \rHit:1 http://archive.ubuntu.com/ubuntu jammy InRelease\n",
            "\r0% [Waiting for headers] [Connecting to security.ubuntu.com (185.125.190.36)] [Connected to cloud.r-\r                                                                                                    \rGet:2 http://archive.ubuntu.com/ubuntu jammy-updates InRelease [119 kB]\n",
            "\r                                                                                                    \rGet:3 https://cloud.r-project.org/bin/linux/ubuntu jammy-cran40/ InRelease [3,626 B]\n",
            "\r0% [2 InRelease 15.6 kB/119 kB 13%] [Connecting to security.ubuntu.com (185.125.190.36)] [Connecting\r0% [Waiting for headers] [Waiting for headers] [Connected to ppa.launchpadcontent.net (185.125.190.5\r                                                                                                    \rGet:4 http://archive.ubuntu.com/ubuntu jammy-backports InRelease [109 kB]\n",
            "\r0% [4 InRelease 15.6 kB/109 kB 14%] [Waiting for headers] [Connected to ppa.launchpadcontent.net (18\r                                                                                                    \rHit:5 https://developer.download.nvidia.com/compute/cuda/repos/ubuntu2204/x86_64  InRelease\n",
            "Get:6 http://security.ubuntu.com/ubuntu jammy-security InRelease [110 kB]\n",
            "Get:7 https://ppa.launchpadcontent.net/c2d4u.team/c2d4u4.0+/ubuntu jammy InRelease [18.1 kB]\n",
            "Get:8 http://archive.ubuntu.com/ubuntu jammy-updates/universe amd64 Packages [1,270 kB]\n",
            "Get:9 http://archive.ubuntu.com/ubuntu jammy-updates/main amd64 Packages [1,349 kB]\n",
            "Hit:10 https://ppa.launchpadcontent.net/deadsnakes/ppa/ubuntu jammy InRelease\n",
            "Get:11 http://security.ubuntu.com/ubuntu jammy-security/main amd64 Packages [1,082 kB]\n",
            "Hit:12 https://ppa.launchpadcontent.net/graphics-drivers/ppa/ubuntu jammy InRelease\n",
            "Get:13 http://security.ubuntu.com/ubuntu jammy-security/universe amd64 Packages [1,005 kB]\n",
            "Hit:14 https://ppa.launchpadcontent.net/ubuntugis/ppa/ubuntu jammy InRelease\n",
            "Get:15 https://ppa.launchpadcontent.net/c2d4u.team/c2d4u4.0+/ubuntu jammy/main Sources [2,229 kB]\n",
            "Get:16 https://ppa.launchpadcontent.net/c2d4u.team/c2d4u4.0+/ubuntu jammy/main amd64 Packages [1,144 kB]\n",
            "Fetched 8,439 kB in 3s (2,568 kB/s)\n",
            "Reading package lists... Done\n",
            "Reading package lists... Done\n",
            "Building dependency tree... Done\n",
            "Reading state information... Done\n",
            "The following additional packages will be installed:\n",
            "  libcgi-fast-perl libcgi-pm-perl libclone-perl libencode-locale-perl libfcgi-bin libfcgi-perl\n",
            "  libfcgi0ldbl libhtml-parser-perl libhtml-tagset-perl libhtml-template-perl libhttp-date-perl\n",
            "  libhttp-message-perl libio-html-perl liblwp-mediatypes-perl libmecab2 libprotobuf-lite23\n",
            "  liburi-perl mecab-ipadic mecab-ipadic-utf8 mecab-utils mysql-client-8.0 mysql-client-core-8.0\n",
            "  mysql-server-8.0 mysql-server-core-8.0\n",
            "Suggested packages:\n",
            "  libdata-dump-perl libipc-sharedcache-perl libbusiness-isbn-perl libwww-perl mailx tinyca\n",
            "The following NEW packages will be installed:\n",
            "  libcgi-fast-perl libcgi-pm-perl libclone-perl libencode-locale-perl libfcgi-bin libfcgi-perl\n",
            "  libfcgi0ldbl libhtml-parser-perl libhtml-tagset-perl libhtml-template-perl libhttp-date-perl\n",
            "  libhttp-message-perl libio-html-perl liblwp-mediatypes-perl libmecab2 libprotobuf-lite23\n",
            "  liburi-perl mecab-ipadic mecab-ipadic-utf8 mecab-utils mysql-client-8.0 mysql-client-core-8.0\n",
            "  mysql-server mysql-server-8.0 mysql-server-core-8.0\n",
            "0 upgraded, 25 newly installed, 0 to remove and 28 not upgraded.\n",
            "Need to get 29.5 MB of archives.\n",
            "After this operation, 243 MB of additional disk space will be used.\n",
            "Get:1 http://archive.ubuntu.com/ubuntu jammy-updates/main amd64 mysql-client-core-8.0 amd64 8.0.34-0ubuntu0.22.04.1 [2,754 kB]\n",
            "Get:2 http://archive.ubuntu.com/ubuntu jammy-updates/main amd64 mysql-client-8.0 amd64 8.0.34-0ubuntu0.22.04.1 [22.7 kB]\n",
            "Get:3 http://archive.ubuntu.com/ubuntu jammy/main amd64 libmecab2 amd64 0.996-14build9 [199 kB]\n",
            "Get:4 http://archive.ubuntu.com/ubuntu jammy-updates/main amd64 libprotobuf-lite23 amd64 3.12.4-1ubuntu7.22.04.1 [209 kB]\n",
            "Get:5 http://archive.ubuntu.com/ubuntu jammy-updates/main amd64 mysql-server-core-8.0 amd64 8.0.34-0ubuntu0.22.04.1 [17.5 MB]\n",
            "Get:6 http://archive.ubuntu.com/ubuntu jammy-updates/main amd64 mysql-server-8.0 amd64 8.0.34-0ubuntu0.22.04.1 [1,437 kB]\n",
            "Get:7 http://archive.ubuntu.com/ubuntu jammy/main amd64 libhtml-tagset-perl all 3.20-4 [12.5 kB]\n",
            "Get:8 http://archive.ubuntu.com/ubuntu jammy/main amd64 liburi-perl all 5.10-1 [78.8 kB]\n",
            "Get:9 http://archive.ubuntu.com/ubuntu jammy/main amd64 libhtml-parser-perl amd64 3.76-1build2 [88.4 kB]\n",
            "Get:10 http://archive.ubuntu.com/ubuntu jammy/main amd64 libcgi-pm-perl all 4.54-1 [188 kB]\n",
            "Get:11 http://archive.ubuntu.com/ubuntu jammy/main amd64 libfcgi0ldbl amd64 2.4.2-2build2 [28.0 kB]\n",
            "Get:12 http://archive.ubuntu.com/ubuntu jammy/main amd64 libfcgi-perl amd64 0.82+ds-1build1 [22.8 kB]\n",
            "Get:13 http://archive.ubuntu.com/ubuntu jammy/main amd64 libcgi-fast-perl all 1:2.15-1 [10.5 kB]\n",
            "Get:14 http://archive.ubuntu.com/ubuntu jammy/main amd64 libclone-perl amd64 0.45-1build3 [11.0 kB]\n",
            "Get:15 http://archive.ubuntu.com/ubuntu jammy/main amd64 libencode-locale-perl all 1.05-1.1 [11.8 kB]\n",
            "Get:16 http://archive.ubuntu.com/ubuntu jammy/main amd64 libfcgi-bin amd64 2.4.2-2build2 [11.2 kB]\n",
            "Get:17 http://archive.ubuntu.com/ubuntu jammy/main amd64 libhtml-template-perl all 2.97-1.1 [59.1 kB]\n",
            "Get:18 http://archive.ubuntu.com/ubuntu jammy/main amd64 libhttp-date-perl all 6.05-1 [9,920 B]\n",
            "Get:19 http://archive.ubuntu.com/ubuntu jammy/main amd64 libio-html-perl all 1.004-2 [15.4 kB]\n",
            "Get:20 http://archive.ubuntu.com/ubuntu jammy/main amd64 liblwp-mediatypes-perl all 6.04-1 [19.5 kB]\n",
            "Get:21 http://archive.ubuntu.com/ubuntu jammy/main amd64 libhttp-message-perl all 6.36-1 [76.8 kB]\n",
            "Get:22 http://archive.ubuntu.com/ubuntu jammy/main amd64 mecab-utils amd64 0.996-14build9 [4,850 B]\n",
            "Get:23 http://archive.ubuntu.com/ubuntu jammy/main amd64 mecab-ipadic all 2.7.0-20070801+main-3 [6,718 kB]\n",
            "Get:24 http://archive.ubuntu.com/ubuntu jammy/main amd64 mecab-ipadic-utf8 all 2.7.0-20070801+main-3 [4,384 B]\n",
            "Get:25 http://archive.ubuntu.com/ubuntu jammy-updates/main amd64 mysql-server all 8.0.34-0ubuntu0.22.04.1 [9,460 B]\n",
            "Fetched 29.5 MB in 0s (63.0 MB/s)\n",
            "Preconfiguring packages ...\n",
            "Selecting previously unselected package mysql-client-core-8.0.\n",
            "(Reading database ... 120875 files and directories currently installed.)\n",
            "Preparing to unpack .../00-mysql-client-core-8.0_8.0.34-0ubuntu0.22.04.1_amd64.deb ...\n",
            "Unpacking mysql-client-core-8.0 (8.0.34-0ubuntu0.22.04.1) ...\n",
            "Selecting previously unselected package mysql-client-8.0.\n",
            "Preparing to unpack .../01-mysql-client-8.0_8.0.34-0ubuntu0.22.04.1_amd64.deb ...\n",
            "Unpacking mysql-client-8.0 (8.0.34-0ubuntu0.22.04.1) ...\n",
            "Selecting previously unselected package libmecab2:amd64.\n",
            "Preparing to unpack .../02-libmecab2_0.996-14build9_amd64.deb ...\n",
            "Unpacking libmecab2:amd64 (0.996-14build9) ...\n",
            "Selecting previously unselected package libprotobuf-lite23:amd64.\n",
            "Preparing to unpack .../03-libprotobuf-lite23_3.12.4-1ubuntu7.22.04.1_amd64.deb ...\n",
            "Unpacking libprotobuf-lite23:amd64 (3.12.4-1ubuntu7.22.04.1) ...\n",
            "Selecting previously unselected package mysql-server-core-8.0.\n",
            "Preparing to unpack .../04-mysql-server-core-8.0_8.0.34-0ubuntu0.22.04.1_amd64.deb ...\n",
            "Unpacking mysql-server-core-8.0 (8.0.34-0ubuntu0.22.04.1) ...\n",
            "Selecting previously unselected package mysql-server-8.0.\n",
            "Preparing to unpack .../05-mysql-server-8.0_8.0.34-0ubuntu0.22.04.1_amd64.deb ...\n",
            "Unpacking mysql-server-8.0 (8.0.34-0ubuntu0.22.04.1) ...\n",
            "Selecting previously unselected package libhtml-tagset-perl.\n",
            "Preparing to unpack .../06-libhtml-tagset-perl_3.20-4_all.deb ...\n",
            "Unpacking libhtml-tagset-perl (3.20-4) ...\n",
            "Selecting previously unselected package liburi-perl.\n",
            "Preparing to unpack .../07-liburi-perl_5.10-1_all.deb ...\n",
            "Unpacking liburi-perl (5.10-1) ...\n",
            "Selecting previously unselected package libhtml-parser-perl:amd64.\n",
            "Preparing to unpack .../08-libhtml-parser-perl_3.76-1build2_amd64.deb ...\n",
            "Unpacking libhtml-parser-perl:amd64 (3.76-1build2) ...\n",
            "Selecting previously unselected package libcgi-pm-perl.\n",
            "Preparing to unpack .../09-libcgi-pm-perl_4.54-1_all.deb ...\n",
            "Unpacking libcgi-pm-perl (4.54-1) ...\n",
            "Selecting previously unselected package libfcgi0ldbl:amd64.\n",
            "Preparing to unpack .../10-libfcgi0ldbl_2.4.2-2build2_amd64.deb ...\n",
            "Unpacking libfcgi0ldbl:amd64 (2.4.2-2build2) ...\n",
            "Selecting previously unselected package libfcgi-perl:amd64.\n",
            "Preparing to unpack .../11-libfcgi-perl_0.82+ds-1build1_amd64.deb ...\n",
            "Unpacking libfcgi-perl:amd64 (0.82+ds-1build1) ...\n",
            "Selecting previously unselected package libcgi-fast-perl.\n",
            "Preparing to unpack .../12-libcgi-fast-perl_1%3a2.15-1_all.deb ...\n",
            "Unpacking libcgi-fast-perl (1:2.15-1) ...\n",
            "Selecting previously unselected package libclone-perl.\n",
            "Preparing to unpack .../13-libclone-perl_0.45-1build3_amd64.deb ...\n",
            "Unpacking libclone-perl (0.45-1build3) ...\n",
            "Selecting previously unselected package libencode-locale-perl.\n",
            "Preparing to unpack .../14-libencode-locale-perl_1.05-1.1_all.deb ...\n",
            "Unpacking libencode-locale-perl (1.05-1.1) ...\n",
            "Selecting previously unselected package libfcgi-bin.\n",
            "Preparing to unpack .../15-libfcgi-bin_2.4.2-2build2_amd64.deb ...\n",
            "Unpacking libfcgi-bin (2.4.2-2build2) ...\n",
            "Selecting previously unselected package libhtml-template-perl.\n",
            "Preparing to unpack .../16-libhtml-template-perl_2.97-1.1_all.deb ...\n",
            "Unpacking libhtml-template-perl (2.97-1.1) ...\n",
            "Selecting previously unselected package libhttp-date-perl.\n",
            "Preparing to unpack .../17-libhttp-date-perl_6.05-1_all.deb ...\n",
            "Unpacking libhttp-date-perl (6.05-1) ...\n",
            "Selecting previously unselected package libio-html-perl.\n",
            "Preparing to unpack .../18-libio-html-perl_1.004-2_all.deb ...\n",
            "Unpacking libio-html-perl (1.004-2) ...\n",
            "Selecting previously unselected package liblwp-mediatypes-perl.\n",
            "Preparing to unpack .../19-liblwp-mediatypes-perl_6.04-1_all.deb ...\n",
            "Unpacking liblwp-mediatypes-perl (6.04-1) ...\n",
            "Selecting previously unselected package libhttp-message-perl.\n",
            "Preparing to unpack .../20-libhttp-message-perl_6.36-1_all.deb ...\n",
            "Unpacking libhttp-message-perl (6.36-1) ...\n",
            "Selecting previously unselected package mecab-utils.\n",
            "Preparing to unpack .../21-mecab-utils_0.996-14build9_amd64.deb ...\n",
            "Unpacking mecab-utils (0.996-14build9) ...\n",
            "Selecting previously unselected package mecab-ipadic.\n",
            "Preparing to unpack .../22-mecab-ipadic_2.7.0-20070801+main-3_all.deb ...\n",
            "Unpacking mecab-ipadic (2.7.0-20070801+main-3) ...\n",
            "Selecting previously unselected package mecab-ipadic-utf8.\n",
            "Preparing to unpack .../23-mecab-ipadic-utf8_2.7.0-20070801+main-3_all.deb ...\n",
            "Unpacking mecab-ipadic-utf8 (2.7.0-20070801+main-3) ...\n",
            "Selecting previously unselected package mysql-server.\n",
            "Preparing to unpack .../24-mysql-server_8.0.34-0ubuntu0.22.04.1_all.deb ...\n",
            "Unpacking mysql-server (8.0.34-0ubuntu0.22.04.1) ...\n",
            "Setting up libhttp-date-perl (6.05-1) ...\n",
            "Setting up libmecab2:amd64 (0.996-14build9) ...\n",
            "Setting up mysql-client-core-8.0 (8.0.34-0ubuntu0.22.04.1) ...\n",
            "Setting up libfcgi0ldbl:amd64 (2.4.2-2build2) ...\n",
            "Setting up libclone-perl (0.45-1build3) ...\n",
            "Setting up libhtml-tagset-perl (3.20-4) ...\n",
            "Setting up liblwp-mediatypes-perl (6.04-1) ...\n",
            "Setting up libfcgi-bin (2.4.2-2build2) ...\n",
            "Setting up libencode-locale-perl (1.05-1.1) ...\n",
            "Setting up libprotobuf-lite23:amd64 (3.12.4-1ubuntu7.22.04.1) ...\n",
            "Setting up mecab-utils (0.996-14build9) ...\n",
            "Setting up libio-html-perl (1.004-2) ...\n",
            "Setting up mysql-server-core-8.0 (8.0.34-0ubuntu0.22.04.1) ...\n",
            "Setting up mysql-client-8.0 (8.0.34-0ubuntu0.22.04.1) ...\n",
            "Setting up libfcgi-perl:amd64 (0.82+ds-1build1) ...\n",
            "Setting up liburi-perl (5.10-1) ...\n",
            "Setting up libhttp-message-perl (6.36-1) ...\n",
            "Setting up mysql-server-8.0 (8.0.34-0ubuntu0.22.04.1) ...\n",
            "invoke-rc.d: could not determine current runlevel\n",
            "invoke-rc.d: policy-rc.d denied execution of stop.\n",
            "update-alternatives: using /etc/mysql/mysql.cnf to provide /etc/mysql/my.cnf (my.cnf) in auto mode\n",
            "Renaming removed key_buffer and myisam-recover options (if present)\n",
            "mysqld will log errors to /var/log/mysql/error.log\n",
            "mysqld is running as pid 4099\n",
            "Created symlink /etc/systemd/system/multi-user.target.wants/mysql.service → /lib/systemd/system/mysql.service.\n",
            "invoke-rc.d: could not determine current runlevel\n",
            "invoke-rc.d: policy-rc.d denied execution of start.\n",
            "Setting up mecab-ipadic (2.7.0-20070801+main-3) ...\n",
            "Compiling IPA dictionary for Mecab.  This takes long time...\n",
            "reading /usr/share/mecab/dic/ipadic/unk.def ... 40\n",
            "emitting double-array: 100% |###########################################| \n",
            "/usr/share/mecab/dic/ipadic/model.def is not found. skipped.\n",
            "reading /usr/share/mecab/dic/ipadic/Prefix.csv ... 221\n",
            "reading /usr/share/mecab/dic/ipadic/Filler.csv ... 19\n",
            "reading /usr/share/mecab/dic/ipadic/Symbol.csv ... 208\n",
            "reading /usr/share/mecab/dic/ipadic/Noun.demonst.csv ... 120\n",
            "reading /usr/share/mecab/dic/ipadic/Noun.org.csv ... 16668\n",
            "reading /usr/share/mecab/dic/ipadic/Adj.csv ... 27210\n",
            "reading /usr/share/mecab/dic/ipadic/Adverb.csv ... 3032\n",
            "reading /usr/share/mecab/dic/ipadic/Noun.others.csv ... 151\n",
            "reading /usr/share/mecab/dic/ipadic/Suffix.csv ... 1393\n",
            "reading /usr/share/mecab/dic/ipadic/Noun.adverbal.csv ... 795\n",
            "reading /usr/share/mecab/dic/ipadic/Postp-col.csv ... 91\n",
            "reading /usr/share/mecab/dic/ipadic/Adnominal.csv ... 135\n",
            "reading /usr/share/mecab/dic/ipadic/Postp.csv ... 146\n",
            "reading /usr/share/mecab/dic/ipadic/Others.csv ... 2\n",
            "reading /usr/share/mecab/dic/ipadic/Noun.adjv.csv ... 3328\n",
            "reading /usr/share/mecab/dic/ipadic/Noun.csv ... 60477\n",
            "reading /usr/share/mecab/dic/ipadic/Auxil.csv ... 199\n",
            "reading /usr/share/mecab/dic/ipadic/Noun.verbal.csv ... 12146\n",
            "reading /usr/share/mecab/dic/ipadic/Noun.number.csv ... 42\n",
            "reading /usr/share/mecab/dic/ipadic/Verb.csv ... 130750\n",
            "reading /usr/share/mecab/dic/ipadic/Noun.nai.csv ... 42\n",
            "reading /usr/share/mecab/dic/ipadic/Noun.name.csv ... 34202\n",
            "reading /usr/share/mecab/dic/ipadic/Noun.proper.csv ... 27328\n",
            "reading /usr/share/mecab/dic/ipadic/Interjection.csv ... 252\n",
            "reading /usr/share/mecab/dic/ipadic/Conjunction.csv ... 171\n",
            "reading /usr/share/mecab/dic/ipadic/Noun.place.csv ... 72999\n",
            "emitting double-array: 100% |###########################################| \n",
            "reading /usr/share/mecab/dic/ipadic/matrix.def ... 1316x1316\n",
            "emitting matrix      : 100% |###########################################| \n",
            "\n",
            "done!\n",
            "update-alternatives: using /var/lib/mecab/dic/ipadic to provide /var/lib/mecab/dic/debian (mecab-dictionary) in auto mode\n",
            "Setting up mecab-ipadic-utf8 (2.7.0-20070801+main-3) ...\n",
            "Compiling IPA dictionary for Mecab.  This takes long time...\n",
            "reading /usr/share/mecab/dic/ipadic/unk.def ... 40\n",
            "emitting double-array: 100% |###########################################| \n",
            "/usr/share/mecab/dic/ipadic/model.def is not found. skipped.\n",
            "reading /usr/share/mecab/dic/ipadic/Prefix.csv ... 221\n",
            "reading /usr/share/mecab/dic/ipadic/Filler.csv ... 19\n",
            "reading /usr/share/mecab/dic/ipadic/Symbol.csv ... 208\n",
            "reading /usr/share/mecab/dic/ipadic/Noun.demonst.csv ... 120\n",
            "reading /usr/share/mecab/dic/ipadic/Noun.org.csv ... 16668\n",
            "reading /usr/share/mecab/dic/ipadic/Adj.csv ... 27210\n",
            "reading /usr/share/mecab/dic/ipadic/Adverb.csv ... 3032\n",
            "reading /usr/share/mecab/dic/ipadic/Noun.others.csv ... 151\n",
            "reading /usr/share/mecab/dic/ipadic/Suffix.csv ... 1393\n",
            "reading /usr/share/mecab/dic/ipadic/Noun.adverbal.csv ... 795\n",
            "reading /usr/share/mecab/dic/ipadic/Postp-col.csv ... 91\n",
            "reading /usr/share/mecab/dic/ipadic/Adnominal.csv ... 135\n",
            "reading /usr/share/mecab/dic/ipadic/Postp.csv ... 146\n",
            "reading /usr/share/mecab/dic/ipadic/Others.csv ... 2\n",
            "reading /usr/share/mecab/dic/ipadic/Noun.adjv.csv ... 3328\n",
            "reading /usr/share/mecab/dic/ipadic/Noun.csv ... 60477\n",
            "reading /usr/share/mecab/dic/ipadic/Auxil.csv ... 199\n",
            "reading /usr/share/mecab/dic/ipadic/Noun.verbal.csv ... 12146\n",
            "reading /usr/share/mecab/dic/ipadic/Noun.number.csv ... 42\n",
            "reading /usr/share/mecab/dic/ipadic/Verb.csv ... 130750\n",
            "reading /usr/share/mecab/dic/ipadic/Noun.nai.csv ... 42\n",
            "reading /usr/share/mecab/dic/ipadic/Noun.name.csv ... 34202\n",
            "reading /usr/share/mecab/dic/ipadic/Noun.proper.csv ... 27328\n",
            "reading /usr/share/mecab/dic/ipadic/Interjection.csv ... 252\n",
            "reading /usr/share/mecab/dic/ipadic/Conjunction.csv ... 171\n",
            "reading /usr/share/mecab/dic/ipadic/Noun.place.csv ... 72999\n",
            "emitting double-array: 100% |###########################################| \n",
            "reading /usr/share/mecab/dic/ipadic/matrix.def ... 1316x1316\n",
            "emitting matrix      : 100% |###########################################| \n",
            "\n",
            "done!\n",
            "update-alternatives: using /var/lib/mecab/dic/ipadic-utf8 to provide /var/lib/mecab/dic/debian (mecab-dictionary) in auto mode\n",
            "Setting up libhtml-parser-perl:amd64 (3.76-1build2) ...\n",
            "Setting up mysql-server (8.0.34-0ubuntu0.22.04.1) ...\n",
            "Setting up libcgi-pm-perl (4.54-1) ...\n",
            "Setting up libhtml-template-perl (2.97-1.1) ...\n",
            "Setting up libcgi-fast-perl (1:2.15-1) ...\n",
            "Processing triggers for man-db (2.10.2-1) ...\n",
            "Processing triggers for libc-bin (2.35-0ubuntu3.1) ...\n",
            "/sbin/ldconfig.real: /usr/local/lib/libtbbbind_2_5.so.3 is not a symbolic link\n",
            "\n",
            "/sbin/ldconfig.real: /usr/local/lib/libtbbbind_2_0.so.3 is not a symbolic link\n",
            "\n",
            "/sbin/ldconfig.real: /usr/local/lib/libtbbbind.so.3 is not a symbolic link\n",
            "\n",
            "/sbin/ldconfig.real: /usr/local/lib/libtbb.so.12 is not a symbolic link\n",
            "\n",
            "/sbin/ldconfig.real: /usr/local/lib/libtbbmalloc_proxy.so.2 is not a symbolic link\n",
            "\n",
            "/sbin/ldconfig.real: /usr/local/lib/libtbbmalloc.so.2 is not a symbolic link\n",
            "\n",
            " * Starting MySQL database server mysqld\n",
            "su: warning: cannot change directory to /nonexistent: No such file or directory\n",
            "   ...done.\n"
          ]
        }
      ]
    },
    {
      "cell_type": "code",
      "source": [
        "# Log in to MySQL as root\n",
        "!mysql -u root"
      ],
      "metadata": {
        "id": "rmhh1Huo3yzU",
        "outputId": "c46f010f-4e2a-48ae-ab38-c47482258478",
        "colab": {
          "base_uri": "https://localhost:8080/"
        }
      },
      "execution_count": 3,
      "outputs": [
        {
          "output_type": "stream",
          "name": "stdout",
          "text": [
            "Welcome to the MySQL monitor.  Commands end with ; or \\g.\n",
            "Your MySQL connection id is 10\n",
            "Server version: 8.0.34-0ubuntu0.22.04.1 (Ubuntu)\n",
            "\n",
            "Copyright (c) 2000, 2023, Oracle and/or its affiliates.\n",
            "\n",
            "Oracle is a registered trademark of Oracle Corporation and/or its\n",
            "affiliates. Other names may be trademarks of their respective\n",
            "owners.\n",
            "\n",
            "Type 'help;' or '\\h' for help. Type '\\c' to clear the current input statement.\n",
            "\n",
            "mysql> DROP USER IF EXISTS 'test'@'localhost'; # 혹시 이 아이디가 있으면 삭제 CREATE USER 'test'@'lo \bcalhost' IDENTIFIED WITH 'mysql_native_password' BY '1234'; # mysql에서 파이썬을 오픈할 때 비밀번호  \b를 입력하도록 함 GRANT ALL PRIVILEGES ON *.* TO 'test'@'localhost' WITH GRANT OPTION; FLUSH PRIVILEG \bES; # 이 아이디와 비밀번호로 접근하면 모든 권한을 줌\n",
            "Query OK, 0 rows affected, 1 warning (0.01 sec)\n",
            "\n",
            "mysql> DROP USER IF EXISTS 'test'@'localhost'; CREATE USER 'test'@'localhost' IDENTIFIED WITH 'mysql \b_native_password' BY '1234'; GRANT ALL PRIVILEGES ON *.* TO 'test'@'localhost' WITH GRANT OPTION; FL \bUSH PRIVILEGES;\n",
            "Query OK, 0 rows affected, 1 warning (0.01 sec)\n",
            "\n",
            "Query OK, 0 rows affected (0.01 sec)\n",
            "\n",
            "Query OK, 0 rows affected (0.01 sec)\n",
            "\n",
            "Query OK, 0 rows affected (0.01 sec)\n",
            "\n",
            "mysql> DROP DATABASE IF EXISTS TestDataset; CREATE DATABASE TestDataset; CREATE TABLE TestDataset.Te \bstTable (     ID INT AUTO_INCREMENT PRIMARY KEY,     Name VARCHAR(255),     Age INT ); INSERT INTO T \bestDataset.TestTable (Name, Age) VALUES ('John', 30), ('Alice', 25), ('Bob', 35); exit;\n",
            "Query OK, 0 rows affected, 1 warning (0.01 sec)\n",
            "\n",
            "Query OK, 1 row affected (0.01 sec)\n",
            "\n",
            "Query OK, 0 rows affected (0.05 sec)\n",
            "\n",
            "Query OK, 3 rows affected (0.01 sec)\n",
            "Records: 3  Duplicates: 0  Warnings: 0\n",
            "\n",
            "Bye\n"
          ]
        }
      ]
    },
    {
      "cell_type": "markdown",
      "source": [
        "```mysql\n",
        "DROP USER IF EXISTS 'test'@'localhost';\n",
        "CREATE USER 'test'@'localhost' IDENTIFIED WITH 'mysql_native_password' BY '1234';\n",
        "GRANT ALL PRIVILEGES ON *.* TO 'test'@'localhost' WITH GRANT OPTION;\n",
        "FLUSH PRIVILEGES;\n",
        "```"
      ],
      "metadata": {
        "id": "YZ2HLInj5r5S"
      }
    },
    {
      "cell_type": "markdown",
      "source": [
        "```mysql\n",
        "DROP USER IF EXISTS 'test'@'localhost'; # 혹시 이 아이디가 있으면 삭제\n",
        "CREATE USER 'test'@'localhost' IDENTIFIED WITH 'mysql_native_password' BY '1234'; # mysql에서 파이썬을 오픈할 때 비밀번호를 입력하도록 함\n",
        "GRANT ALL PRIVILEGES ON *.* TO 'test'@'localhost' WITH GRANT OPTION;\n",
        "FLUSH PRIVILEGES; # 이 아이디와 비밀번호로 접근하면 모든 권한을 줌\n",
        "```"
      ],
      "metadata": {
        "id": "ovsmZVgW4OPZ"
      }
    },
    {
      "cell_type": "markdown",
      "source": [
        "```mysql\n",
        "DROP DATABASE IF EXISTS TestDataset;\n",
        "CREATE DATABASE TestDataset;\n",
        "CREATE TABLE TestDataset.TestTable (\n",
        "    ID INT AUTO_INCREMENT PRIMARY KEY,\n",
        "    Name VARCHAR(255),\n",
        "    Age INT\n",
        ");\n",
        "INSERT INTO TestDataset.TestTable (Name, Age) VALUES\n",
        "('John', 30),\n",
        "('Alice', 25),\n",
        "('Bob', 35);\n",
        "exit;\n",
        "```"
      ],
      "metadata": {
        "id": "IL72yO8M5_he"
      }
    },
    {
      "cell_type": "markdown",
      "source": [
        "```mysql\n",
        "DROP DATABASE IF EXISTS TestDataset;\n",
        "CREATE DATABASE TestDataset; # 데이터셋 만들기\n",
        "CREATE TABLE TestDataset.TestTable ( # 테이블 만들기\n",
        "    ID INT AUTO_INCREMENT PRIMARY KEY,\n",
        "    Name VARCHAR(255),\n",
        "    Age INT # 테이블에 들어갈 수 있는 것은 id, name, age 3개만 가능\n",
        ");\n",
        "INSERT INTO TestDataset.TestTable (Name, Age) VALUES\n",
        "('John', 30),\n",
        "('Alice', 25),\n",
        "('Bob', 35); # id가 없는 이유는 primary key이기 때문(프라이머리 키는 개수 체크)\n",
        "exit;\n",
        "```"
      ],
      "metadata": {
        "id": "Px0zBPkb4Tm5"
      }
    },
    {
      "cell_type": "code",
      "source": [
        "!pip uninstall mysql-connector\n",
        "!pip uninstall mysql-connector-python\n",
        "!pip install mysql-connector-python"
      ],
      "metadata": {
        "id": "ouxKdVV16X4X",
        "outputId": "5b9f5538-b16b-4a71-801a-a10dcbb208cf",
        "colab": {
          "base_uri": "https://localhost:8080/"
        }
      },
      "execution_count": 5,
      "outputs": [
        {
          "output_type": "stream",
          "name": "stdout",
          "text": [
            "\u001b[33mWARNING: Skipping mysql-connector as it is not installed.\u001b[0m\u001b[33m\n",
            "\u001b[0m\u001b[33mWARNING: Skipping mysql-connector-python as it is not installed.\u001b[0m\u001b[33m\n",
            "\u001b[0mCollecting mysql-connector-python\n",
            "  Downloading mysql_connector_python-8.1.0-cp310-cp310-manylinux_2_17_x86_64.whl (27.5 MB)\n",
            "\u001b[2K     \u001b[90m━━━━━━━━━━━━━━━━━━━━━━━━━━━━━━━━━━━━━━━━\u001b[0m \u001b[32m27.5/27.5 MB\u001b[0m \u001b[31m53.7 MB/s\u001b[0m eta \u001b[36m0:00:00\u001b[0m\n",
            "\u001b[?25hCollecting protobuf<=4.21.12,>=4.21.1 (from mysql-connector-python)\n",
            "  Downloading protobuf-4.21.12-cp37-abi3-manylinux2014_x86_64.whl (409 kB)\n",
            "\u001b[2K     \u001b[90m━━━━━━━━━━━━━━━━━━━━━━━━━━━━━━━━━━━━━━━━\u001b[0m \u001b[32m409.8/409.8 kB\u001b[0m \u001b[31m45.9 MB/s\u001b[0m eta \u001b[36m0:00:00\u001b[0m\n",
            "\u001b[?25hInstalling collected packages: protobuf, mysql-connector-python\n",
            "  Attempting uninstall: protobuf\n",
            "    Found existing installation: protobuf 3.20.3\n",
            "    Uninstalling protobuf-3.20.3:\n",
            "      Successfully uninstalled protobuf-3.20.3\n",
            "\u001b[31mERROR: pip's dependency resolver does not currently take into account all the packages that are installed. This behaviour is the source of the following dependency conflicts.\n",
            "tensorflow-metadata 1.14.0 requires protobuf<4.21,>=3.20.3, but you have protobuf 4.21.12 which is incompatible.\u001b[0m\u001b[31m\n",
            "\u001b[0mSuccessfully installed mysql-connector-python-8.1.0 protobuf-4.21.12\n"
          ]
        }
      ]
    },
    {
      "cell_type": "code",
      "source": [
        "# Import the necessary libraries\n",
        "import mysql.connector\n",
        "\n",
        "# Connect to MySQL\n",
        "mysql_conn = mysql.connector.connect(\n",
        "    host=\"localhost\",  # Database server address\n",
        "    user=\"test\",  # Database username\n",
        "    password=\"1234\",  # User's password\n",
        "    database=\"TestDataset\" # Name of the database\n",
        ")\n"
      ],
      "metadata": {
        "id": "W_TEKWD84Fqd"
      },
      "execution_count": 6,
      "outputs": []
    },
    {
      "cell_type": "markdown",
      "source": [
        "**Executing SQL Queries**"
      ],
      "metadata": {
        "id": "3VhU3yHi4e6z"
      }
    },
    {
      "cell_type": "code",
      "source": [
        "# Create a cursor object\n",
        "mysql_cursor = mysql_conn.cursor(buffered=True) # 파이썬은 직관적으로 누구나 쉽게 접근할 수 있도록 pointer가 아닌 cursor라는 명령어를 사용한다.\n",
        "\n",
        "# Execute SQL queries\n",
        "mysql_cursor.execute(\"SELECT * FROM TestDataset.TestTable\") # 마우스 커서로 데이터 셋 안에 있는 3개를 선택하라.\n",
        "\n",
        "# Fetch data from the queries\n",
        "mysql_result = mysql_cursor.fetchall() # 선택한 것을 파이썬 쪽으로 가져오는 것이 fetchall이다.\n",
        "\n",
        "print(mysql_result)\n",
        "\n",
        "# 구글 컴퓨터 안에 python과 mysql이 있고, 구글 컴퓨터 안에서 일어나는 일이다."
      ],
      "metadata": {
        "id": "0Katydnv4kQ7",
        "outputId": "4a60d2cc-ead1-4e8c-a372-bc26a0552389",
        "colab": {
          "base_uri": "https://localhost:8080/"
        }
      },
      "execution_count": 7,
      "outputs": [
        {
          "output_type": "stream",
          "name": "stdout",
          "text": [
            "[(1, 'John', 30), (2, 'Alice', 25), (3, 'Bob', 35)]\n"
          ]
        }
      ]
    },
    {
      "cell_type": "markdown",
      "source": [
        "**CRUD Operations**"
      ],
      "metadata": {
        "id": "ot4hYc_a6h0p"
      }
    },
    {
      "cell_type": "code",
      "source": [
        "# CREATE: Insert a new record\n",
        "mysql_cursor.execute(\"INSERT INTO TestDataset.TestTable (Name, Age) VALUES (%s, %s)\", (\"John Doe\", 30)) # john doe를 추가\n",
        "# mysql_conn.commit() # 행동하라는 말, 없어도 딱히 문제 없음\n",
        "mysql_cursor.execute(\"SELECT * FROM TestDataset.TestTable\")\n",
        "mysql_result = mysql_cursor.fetchall()\n",
        "print(f\"CREATE example: {mysql_result}\") # 이거랑 # 최신 코딩 트랜드\n",
        "print(\"CREATER example: {}\".format(mysql_result)) # 이거는 값이 같다. 변수를 프린트 하기 위해 format이 사용된다 # 거의 파이썬만 사용\n",
        "\n",
        "# READ: Retrieve data\n",
        "mysql_cursor.execute(\"SELECT * FROM TestDataset.TestTable WHERE Name = 'John Doe'\") # john doe 만 가져와라, 책갈피가 있어서 빨리 찾을 수 있음\n",
        "mysql_result = mysql_cursor.fetchone()\n",
        "print(f\"READ example: {mysql_result}\")\n",
        "\n",
        "\n",
        "# UPDATE: Update existing data\n",
        "mysql_cursor.execute(\"UPDATE TestDataset.TestTable SET Age = 31 WHERE Name = 'John Doe'\")\n",
        "# mysql_conn.commit()\n",
        "mysql_cursor.execute(\"SELECT * FROM TestDataset.TestTable\")\n",
        "mysql_result = mysql_cursor.fetchall()\n",
        "print(f\"UPDATE example: {mysql_result}\")\n",
        "\n",
        "\n",
        "# DELETE: Delete data\n",
        "mysql_cursor.execute(\"DELETE FROM TestDataset.TestTable WHERE Name = 'John Doe'\")\n",
        "# mysql_conn.commit()\n",
        "mysql_cursor.execute(\"SELECT * FROM TestDataset.TestTable\")\n",
        "mysql_result = mysql_cursor.fetchall()\n",
        "print(f\"DELETE example: {mysql_result}\")\n",
        "\n",
        "\n",
        "# 실행을 한번 할 때마다 john doe의 id는 하나씩 올라간다"
      ],
      "metadata": {
        "id": "b9THVU0z4nyH",
        "outputId": "8f0f3f11-3bdf-4177-ac9b-1e7b160afd38",
        "colab": {
          "base_uri": "https://localhost:8080/"
        }
      },
      "execution_count": 12,
      "outputs": [
        {
          "output_type": "stream",
          "name": "stdout",
          "text": [
            "CREATE example: [(1, 'John', 30), (2, 'Alice', 25), (3, 'Bob', 35), (8, 'John Doe', 30)]\n",
            "CREATER example: [(1, 'John', 30), (2, 'Alice', 25), (3, 'Bob', 35), (8, 'John Doe', 30)]\n",
            "READ example: (8, 'John Doe', 30)\n",
            "UPDATE example: [(1, 'John', 30), (2, 'Alice', 25), (3, 'Bob', 35), (8, 'John Doe', 31)]\n",
            "DELETE example: [(1, 'John', 30), (2, 'Alice', 25), (3, 'Bob', 35)]\n"
          ]
        }
      ]
    },
    {
      "cell_type": "markdown",
      "source": [
        "**Working with Database Libraries**"
      ],
      "metadata": {
        "id": "bx2pkF4C63YC"
      }
    },
    {
      "cell_type": "code",
      "source": [
        "# Using pandas for data manipulation\n",
        "import pandas as pd\n",
        "\n",
        "# Retrieve data from the database and create a DataFrame\n",
        "mysql_cursor.execute(\"SELECT * FROM TestDataset.TestTable\")\n",
        "data = mysql_cursor.fetchall()\n",
        "df = pd.DataFrame(data, columns=[\"ID\", \"Name\", \"Age\"])\n",
        "print(df)\n",
        "\n",
        "# Perform data analysis with pandas\n",
        "average_age = df[\"Age\"].mean()\n",
        "print(average_age)\n",
        "\n",
        "# 파이썬에 있는 mean 등의 많은 기능을 사용하기 위해 mysql에 파이썬을 연결해서 사용하는 것이다."
      ],
      "metadata": {
        "id": "fpR7NhbV6o2d",
        "outputId": "249c5dc5-b128-445e-83d4-fdfeae8b3df7",
        "colab": {
          "base_uri": "https://localhost:8080/"
        }
      },
      "execution_count": 14,
      "outputs": [
        {
          "output_type": "stream",
          "name": "stdout",
          "text": [
            "   ID   Name  Age\n",
            "0   1   John   30\n",
            "1   2  Alice   25\n",
            "2   3    Bob   35\n",
            "30.0\n"
          ]
        }
      ]
    },
    {
      "cell_type": "markdown",
      "source": [
        "**------------------------------어떤 사람이 질문한거------------------------------**"
      ],
      "metadata": {
        "id": "nSILQCqU8N6L"
      }
    },
    {
      "cell_type": "code",
      "source": [
        "for i in 1:\n",
        "  print(i)\n",
        "\n",
        "# 여기에서 에러가 생기는 이유는 for문은 반복 가능한 객체에 대해서만 동작하지만 숫자 1은 반복 가능한 객체가 아니다."
      ],
      "metadata": {
        "id": "UplkNwiP651z",
        "outputId": "2ff44d2c-0027-4586-81ed-0af8eed9f9e5",
        "colab": {
          "base_uri": "https://localhost:8080/",
          "height": 233
        }
      },
      "execution_count": 18,
      "outputs": [
        {
          "output_type": "error",
          "ename": "TypeError",
          "evalue": "ignored",
          "traceback": [
            "\u001b[0;31m---------------------------------------------------------------------------\u001b[0m",
            "\u001b[0;31mTypeError\u001b[0m                                 Traceback (most recent call last)",
            "\u001b[0;32m<ipython-input-18-be5d1247a3a9>\u001b[0m in \u001b[0;36m<cell line: 1>\u001b[0;34m()\u001b[0m\n\u001b[0;32m----> 1\u001b[0;31m \u001b[0;32mfor\u001b[0m \u001b[0mi\u001b[0m \u001b[0;32min\u001b[0m \u001b[0;36m1\u001b[0m\u001b[0;34m:\u001b[0m\u001b[0;34m\u001b[0m\u001b[0;34m\u001b[0m\u001b[0m\n\u001b[0m\u001b[1;32m      2\u001b[0m   \u001b[0mprint\u001b[0m\u001b[0;34m(\u001b[0m\u001b[0mi\u001b[0m\u001b[0;34m)\u001b[0m\u001b[0;34m\u001b[0m\u001b[0;34m\u001b[0m\u001b[0m\n\u001b[1;32m      3\u001b[0m \u001b[0;34m\u001b[0m\u001b[0m\n\u001b[1;32m      4\u001b[0m \u001b[0;31m# 여기에서 에러가 생기는 이유는 for문은 반복 가능한 객체에 대해서만 동작하지만 숫자 1은 반복 가능한 객체가 아니다.\u001b[0m\u001b[0;34m\u001b[0m\u001b[0;34m\u001b[0m\u001b[0m\n",
            "\u001b[0;31mTypeError\u001b[0m: 'int' object is not iterable"
          ]
        }
      ]
    },
    {
      "cell_type": "code",
      "source": [
        "for i in [1]:\n",
        "  print(i)"
      ],
      "metadata": {
        "id": "rHjbq5ua9GCX",
        "outputId": "3b56623a-1ba5-488a-f04b-d42ab8e313fb",
        "colab": {
          "base_uri": "https://localhost:8080/"
        }
      },
      "execution_count": 19,
      "outputs": [
        {
          "output_type": "stream",
          "name": "stdout",
          "text": [
            "1\n"
          ]
        }
      ]
    },
    {
      "cell_type": "code",
      "source": [
        "for i in range(1):\n",
        "  print(i)"
      ],
      "metadata": {
        "id": "8xlp9spJ9JPG",
        "outputId": "35efe9af-3099-425d-a9ec-00d539bd34ed",
        "colab": {
          "base_uri": "https://localhost:8080/"
        }
      },
      "execution_count": 22,
      "outputs": [
        {
          "output_type": "stream",
          "name": "stdout",
          "text": [
            "0\n"
          ]
        }
      ]
    },
    {
      "cell_type": "code",
      "source": [
        "for i in range(2):\n",
        "  print(i)"
      ],
      "metadata": {
        "id": "eQanlqdd9Pyc",
        "outputId": "172428d7-0ecd-445d-8a9a-189d11d85220",
        "colab": {
          "base_uri": "https://localhost:8080/"
        }
      },
      "execution_count": 23,
      "outputs": [
        {
          "output_type": "stream",
          "name": "stdout",
          "text": [
            "0\n",
            "1\n"
          ]
        }
      ]
    },
    {
      "cell_type": "code",
      "source": [
        "tt = [1, 2, 3]\n",
        "for t in range(3):\n",
        "  print(tt[t])\n",
        "\n",
        "# 이건 반복 가능"
      ],
      "metadata": {
        "id": "t_-E9K0X8kcH",
        "outputId": "eecdc051-8ff8-40b4-84d7-d08cfac09669",
        "colab": {
          "base_uri": "https://localhost:8080/"
        }
      },
      "execution_count": 15,
      "outputs": [
        {
          "output_type": "stream",
          "name": "stdout",
          "text": [
            "1\n",
            "2\n",
            "3\n"
          ]
        }
      ]
    },
    {
      "cell_type": "code",
      "source": [],
      "metadata": {
        "id": "8SHpESgs8qiL"
      },
      "execution_count": null,
      "outputs": []
    }
  ]
}