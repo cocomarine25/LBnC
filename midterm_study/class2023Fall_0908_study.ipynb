{
  "nbformat": 4,
  "nbformat_minor": 0,
  "metadata": {
    "colab": {
      "provenance": [],
      "include_colab_link": true
    },
    "kernelspec": {
      "name": "python3",
      "display_name": "Python 3"
    },
    "language_info": {
      "name": "python"
    }
  },
  "cells": [
    {
      "cell_type": "markdown",
      "metadata": {
        "id": "view-in-github",
        "colab_type": "text"
      },
      "source": [
        "<a href=\"https://colab.research.google.com/github/cocomarine25/LBnC/blob/main/midterm_study/class2023Fall_0908_study.ipynb\" target=\"_parent\"><img src=\"https://colab.research.google.com/assets/colab-badge.svg\" alt=\"Open In Colab\"/></a>"
      ]
    },
    {
      "cell_type": "markdown",
      "source": [
        "---\n",
        "\n",
        "### 1. Lists, Tuples, and Dictionaries\n",
        "\n",
        "---\n",
        "\n",
        "#### **Lists**\n",
        "\n",
        "A list is an ordered collection of items. Lists are mutable, which means you can modify their content.\n",
        "\n",
        "* **Creating Lists**\n",
        "    ```python\n",
        "    my_list = [1, 2, 3, 4, 5]\n",
        "    ```\n",
        "\n",
        "* **Accessing Items**\n",
        "    ```python\n",
        "    first_item = my_list[0]\n",
        "    ```\n",
        "\n",
        "* **Modifying Items**\n",
        "    ```python\n",
        "    my_list[1] = 20\n",
        "    ```\n",
        "\n",
        "* **Appending & Removing**\n",
        "    ```python\n",
        "    my_list.append(6)  # Add to the end\n",
        "    my_list.remove(3)  # Remove first occurrence of 3\n",
        "    ```\n",
        "\n",
        "---\n",
        "\n",
        "#### **Tuples**\n",
        "\n",
        "Tuples are similar to lists but they are immutable. This means that you can't modify their content after creation.\n",
        "\n",
        "* **Creating Tuples**\n",
        "    ```python\n",
        "    my_tuple = (1, 2, 3, 4, 5)\n",
        "    ```\n",
        "\n",
        "* **Accessing Items**\n",
        "    ```python\n",
        "    first_item = my_tuple[0]\n",
        "    ```\n",
        "\n",
        "* **Note**: Tuples cannot be modified after creation.\n",
        "\n",
        "---\n",
        "\n",
        "#### **Dictionaries**\n",
        "\n",
        "Dictionaries are unordered collections of key-value pairs.\n",
        "\n",
        "* **Creating Dictionaries**\n",
        "    ```python\n",
        "    my_dict = {\n",
        "        \"name\": \"John\",\n",
        "        \"age\": 30,\n",
        "        \"city\": \"New York\"\n",
        "    }\n",
        "    ```\n",
        "\n",
        "* **Accessing Values**\n",
        "    ```python\n",
        "    name = my_dict[\"name\"]\n",
        "    ```\n",
        "\n",
        "* **Modifying Values**\n",
        "    ```python\n",
        "    my_dict[\"age\"] = 31\n",
        "    ```\n",
        "\n",
        "* **Adding & Removing Key-Value Pairs**\n",
        "    ```python\n",
        "    my_dict[\"country\"] = \"USA\"\n",
        "    del my_dict[\"city\"]\n",
        "    ```\n",
        "\n",
        "---\n",
        "\n",
        "### 2. Understanding Data Structures and Their Operations\n",
        "\n",
        "---\n",
        "\n",
        "#### **Lists**\n",
        "\n",
        "* **Common Operations**:\n",
        "    * Append: `list.append(item)`\n",
        "    * Insert: `list.insert(index, item)`\n",
        "    * Remove: `list.remove(item)`\n",
        "    * Pop: `list.pop(index)`\n",
        "\n",
        "* **Slicing Lists**\n",
        "    ```python\n",
        "    sub_list = my_list[1:4]\n",
        "    ```\n",
        "\n",
        "---\n",
        "\n",
        "#### **Tuples**\n",
        "\n",
        "* **Use Cases**: When you want an immutable ordered list of items.\n",
        "    * Coordinates (x, y)\n",
        "    * RGB colors (r, g, b)\n",
        "\n",
        "---\n",
        "\n",
        "#### **Dictionaries**\n",
        "\n",
        "* **Common Operations**:\n",
        "    * Add/Edit: `dict[key] = value`\n",
        "    * Remove: `del dict[key]`\n",
        "    * Get: `dict.get(key, default)`\n",
        "\n",
        "* **Keys and Values**:\n",
        "    ```python\n",
        "    keys = my_dict.keys()\n",
        "    values = my_dict.values()\n",
        "    ```\n",
        "\n",
        "---\n",
        "\n",
        "### 3. Manipulating and Accessing Data Structures\n",
        "\n",
        "---\n",
        "\n",
        "#### **Lists**\n",
        "\n",
        "* **Iterating Over Lists**\n",
        "    ```python\n",
        "    for item in my_list:\n",
        "        print(item)\n",
        "    ```\n",
        "\n",
        "* **List Comprehensions** (A concise way to create lists)\n",
        "    ```python\n",
        "    squares = [x**2 for x in range(10)]\n",
        "    ```\n",
        "\n",
        "---\n",
        "\n",
        "#### **Tuples**\n",
        "\n",
        "* **Unpacking Tuples**\n",
        "    ```python\n",
        "    x, y, z = (10, 20, 30)\n",
        "    ```\n",
        "\n",
        "---\n",
        "\n",
        "#### **Dictionaries**\n",
        "\n",
        "* **Iterating Over Dictionaries**\n",
        "    ```python\n",
        "    for key, value in my_dict.items():\n",
        "        print(key, value)\n",
        "    ```\n",
        "\n",
        "* **Dictionary Comprehensions**\n",
        "    ```python\n",
        "    square_dict = {x: x**2 for x in range(5)}\n",
        "    ```\n",
        "\n",
        "---"
      ],
      "metadata": {
        "id": "df2zUzf1SHd3"
      }
    },
    {
      "cell_type": "markdown",
      "source": [
        "**코드 연습 시작 !**"
      ],
      "metadata": {
        "id": "MhlVJAMMVi9e"
      }
    },
    {
      "cell_type": "markdown",
      "source": [
        "**List**"
      ],
      "metadata": {
        "id": "NsZ3I0tSVvJQ"
      }
    },
    {
      "cell_type": "code",
      "source": [
        "my_list = [1, 2, 3, 4, 5]\n",
        "print(my_list)"
      ],
      "metadata": {
        "id": "EEMtVWB7Vgye",
        "outputId": "5268de30-e9a6-4f47-b18c-141fc2e5d54c",
        "colab": {
          "base_uri": "https://localhost:8080/"
        }
      },
      "execution_count": 58,
      "outputs": [
        {
          "output_type": "stream",
          "name": "stdout",
          "text": [
            "[1, 2, 3, 4, 5]\n"
          ]
        }
      ]
    },
    {
      "cell_type": "code",
      "source": [
        "first_item = my_list[0]\n",
        "print(first_item)"
      ],
      "metadata": {
        "id": "SC71P4D3TqJH",
        "outputId": "7d7fdde7-edc2-4616-9952-2341ca60fa22",
        "colab": {
          "base_uri": "https://localhost:8080/"
        }
      },
      "execution_count": 59,
      "outputs": [
        {
          "output_type": "stream",
          "name": "stdout",
          "text": [
            "1\n"
          ]
        }
      ]
    },
    {
      "cell_type": "code",
      "source": [
        "my_list[1] = 20\n",
        "print(my_list)"
      ],
      "metadata": {
        "id": "-2-hTmGUTzFd",
        "outputId": "f70261b4-c1c1-4b1d-b43f-679f21a608b7",
        "colab": {
          "base_uri": "https://localhost:8080/"
        }
      },
      "execution_count": 60,
      "outputs": [
        {
          "output_type": "stream",
          "name": "stdout",
          "text": [
            "[1, 20, 3, 4, 5]\n"
          ]
        }
      ]
    },
    {
      "cell_type": "code",
      "source": [
        "my_list.append(6)  # Add to the end\n",
        "print(my_list)"
      ],
      "metadata": {
        "id": "ZHbW1Ur_T30m",
        "outputId": "23553e70-9c6c-4da4-ff41-dd856da9a5d2",
        "colab": {
          "base_uri": "https://localhost:8080/"
        }
      },
      "execution_count": 61,
      "outputs": [
        {
          "output_type": "stream",
          "name": "stdout",
          "text": [
            "[1, 20, 3, 4, 5, 6]\n"
          ]
        }
      ]
    },
    {
      "cell_type": "code",
      "source": [
        "my_list.remove(3)  # Remove first occurrence of 3\n",
        "print(my_list)"
      ],
      "metadata": {
        "id": "umEWFwoGT4bF",
        "outputId": "a0b34ec0-ca38-4ed6-b2aa-d39cc0ca5dfe",
        "colab": {
          "base_uri": "https://localhost:8080/"
        }
      },
      "execution_count": 62,
      "outputs": [
        {
          "output_type": "stream",
          "name": "stdout",
          "text": [
            "[1, 20, 4, 5, 6]\n"
          ]
        }
      ]
    },
    {
      "cell_type": "code",
      "source": [
        "sub_list = my_list[1:4]\n",
        "print(sub_list)"
      ],
      "metadata": {
        "id": "H9Ghzm8ZaJRh",
        "outputId": "fbf23a0e-32d1-420c-bcf1-a03c01ec4ff9",
        "colab": {
          "base_uri": "https://localhost:8080/"
        }
      },
      "execution_count": 63,
      "outputs": [
        {
          "output_type": "stream",
          "name": "stdout",
          "text": [
            "[20, 4, 5]\n"
          ]
        }
      ]
    },
    {
      "cell_type": "code",
      "source": [
        "for item in my_list:\n",
        "  print(item)"
      ],
      "metadata": {
        "id": "sARGQwBhba9G",
        "outputId": "ec6e8a28-7b92-41d3-8b9e-911c1f7cc153",
        "colab": {
          "base_uri": "https://localhost:8080/"
        }
      },
      "execution_count": 64,
      "outputs": [
        {
          "output_type": "stream",
          "name": "stdout",
          "text": [
            "1\n",
            "20\n",
            "4\n",
            "5\n",
            "6\n"
          ]
        }
      ]
    },
    {
      "cell_type": "code",
      "source": [
        "squares = [x**2 for x in range(10)]\n",
        "print(squares)"
      ],
      "metadata": {
        "id": "EEPI-wEdbg2M",
        "outputId": "6231ed3d-443a-4930-c3c3-952eec06799f",
        "colab": {
          "base_uri": "https://localhost:8080/"
        }
      },
      "execution_count": 65,
      "outputs": [
        {
          "output_type": "stream",
          "name": "stdout",
          "text": [
            "[0, 1, 4, 9, 16, 25, 36, 49, 64, 81]\n"
          ]
        }
      ]
    },
    {
      "cell_type": "markdown",
      "source": [
        "**Tuple**"
      ],
      "metadata": {
        "id": "IxSqG8veVrVQ"
      }
    },
    {
      "cell_type": "code",
      "source": [
        "my_tuple = (1, 2, 3, 4, 5)\n",
        "print(my_tuple)"
      ],
      "metadata": {
        "id": "nR2R0le-T7V6",
        "outputId": "12eb1cdb-80b9-4dce-a3f3-3bc38f69512b",
        "colab": {
          "base_uri": "https://localhost:8080/"
        }
      },
      "execution_count": 66,
      "outputs": [
        {
          "output_type": "stream",
          "name": "stdout",
          "text": [
            "(1, 2, 3, 4, 5)\n"
          ]
        }
      ]
    },
    {
      "cell_type": "code",
      "source": [
        "first_item = my_tuple[0]\n",
        "print(first_item)"
      ],
      "metadata": {
        "id": "5ykPcHfBVW6d",
        "outputId": "9fa0b227-31d7-41bb-ce95-c26f3b46a905",
        "colab": {
          "base_uri": "https://localhost:8080/"
        }
      },
      "execution_count": 67,
      "outputs": [
        {
          "output_type": "stream",
          "name": "stdout",
          "text": [
            "1\n"
          ]
        }
      ]
    },
    {
      "cell_type": "code",
      "source": [
        " x, y, z = (10, 20, 30)\n",
        " print(x)\n",
        " print(y)\n",
        " print(z)\n",
        " print(x, y)"
      ],
      "metadata": {
        "id": "LiQWgxfXbrxW",
        "outputId": "5356e7a2-12ab-47c7-de92-47f9e91a8a8f",
        "colab": {
          "base_uri": "https://localhost:8080/"
        }
      },
      "execution_count": 68,
      "outputs": [
        {
          "output_type": "stream",
          "name": "stdout",
          "text": [
            "10\n",
            "20\n",
            "30\n",
            "10 20\n"
          ]
        }
      ]
    },
    {
      "cell_type": "markdown",
      "source": [
        "**Dictionaries**"
      ],
      "metadata": {
        "id": "SCqoLTNqZSs7"
      }
    },
    {
      "cell_type": "code",
      "source": [
        "my_dict = {\n",
        "      \"name\": \"John\",\n",
        "      \"age\": 30,\n",
        "      \"city\": \"New York\"\n",
        "  }\n",
        "print(my_dict)"
      ],
      "metadata": {
        "id": "FavH7-pZVXYr",
        "outputId": "92dd53b8-71da-4a52-86ab-873e75480212",
        "colab": {
          "base_uri": "https://localhost:8080/"
        }
      },
      "execution_count": 69,
      "outputs": [
        {
          "output_type": "stream",
          "name": "stdout",
          "text": [
            "{'name': 'John', 'age': 30, 'city': 'New York'}\n"
          ]
        }
      ]
    },
    {
      "cell_type": "code",
      "source": [
        "name = my_dict[\"name\"]\n",
        "print(name)"
      ],
      "metadata": {
        "id": "f6DEWhvDZY8i",
        "outputId": "ecb93814-6aa8-4c70-f7c6-f10747d41d6a",
        "colab": {
          "base_uri": "https://localhost:8080/"
        }
      },
      "execution_count": 70,
      "outputs": [
        {
          "output_type": "stream",
          "name": "stdout",
          "text": [
            "John\n"
          ]
        }
      ]
    },
    {
      "cell_type": "code",
      "source": [
        "my_dict[\"age\"] = 31\n",
        "print(my_dict)"
      ],
      "metadata": {
        "id": "6FtxgpZdZduU",
        "outputId": "5091acff-2953-41de-8a2f-56c1677d3b8f",
        "colab": {
          "base_uri": "https://localhost:8080/"
        }
      },
      "execution_count": 71,
      "outputs": [
        {
          "output_type": "stream",
          "name": "stdout",
          "text": [
            "{'name': 'John', 'age': 31, 'city': 'New York'}\n"
          ]
        }
      ]
    },
    {
      "cell_type": "code",
      "source": [
        "my_dict[\"country\"] = \"USA\"\n",
        "print(my_dict)"
      ],
      "metadata": {
        "id": "FNXWddMYZiW4",
        "outputId": "374dcd57-bd31-4135-8178-6762b174d3a4",
        "colab": {
          "base_uri": "https://localhost:8080/"
        }
      },
      "execution_count": 72,
      "outputs": [
        {
          "output_type": "stream",
          "name": "stdout",
          "text": [
            "{'name': 'John', 'age': 31, 'city': 'New York', 'country': 'USA'}\n"
          ]
        }
      ]
    },
    {
      "cell_type": "code",
      "source": [
        "del my_dict[\"city\"]\n",
        "print(my_dict)"
      ],
      "metadata": {
        "id": "YjbrqosWZy21",
        "outputId": "1b5e3955-bdcb-4979-f5e4-4892cb048d6d",
        "colab": {
          "base_uri": "https://localhost:8080/"
        }
      },
      "execution_count": 73,
      "outputs": [
        {
          "output_type": "stream",
          "name": "stdout",
          "text": [
            "{'name': 'John', 'age': 31, 'country': 'USA'}\n"
          ]
        }
      ]
    },
    {
      "cell_type": "code",
      "source": [
        "keys = my_dict.keys()\n",
        "values = my_dict.values()\n",
        "print(keys)\n",
        "print(values)"
      ],
      "metadata": {
        "id": "zopqDkEPZ3x1",
        "outputId": "e8b35499-d20e-4108-f2a7-760e65bb56a1",
        "colab": {
          "base_uri": "https://localhost:8080/"
        }
      },
      "execution_count": 74,
      "outputs": [
        {
          "output_type": "stream",
          "name": "stdout",
          "text": [
            "dict_keys(['name', 'age', 'country'])\n",
            "dict_values(['John', 31, 'USA'])\n"
          ]
        }
      ]
    },
    {
      "cell_type": "code",
      "source": [
        "for key, value in my_dict.items():\n",
        "  print(key, value)"
      ],
      "metadata": {
        "id": "x7qmJ8GubRFM",
        "outputId": "043a1757-c893-4074-e46b-1bbc0a8cd119",
        "colab": {
          "base_uri": "https://localhost:8080/"
        }
      },
      "execution_count": 75,
      "outputs": [
        {
          "output_type": "stream",
          "name": "stdout",
          "text": [
            "name John\n",
            "age 31\n",
            "country USA\n"
          ]
        }
      ]
    },
    {
      "cell_type": "code",
      "source": [
        "square_dict = {x: x**2 for x in range(10)}\n",
        "print(square_dict)"
      ],
      "metadata": {
        "id": "X51GEMo8b0zH",
        "outputId": "ea85b180-7fdf-48ee-897d-5f46816e1514",
        "colab": {
          "base_uri": "https://localhost:8080/"
        }
      },
      "execution_count": 76,
      "outputs": [
        {
          "output_type": "stream",
          "name": "stdout",
          "text": [
            "{0: 0, 1: 1, 2: 4, 3: 9, 4: 16, 5: 25, 6: 36, 7: 49, 8: 64, 9: 81}\n"
          ]
        }
      ]
    },
    {
      "cell_type": "code",
      "source": [],
      "metadata": {
        "id": "Ax5RydYPcHaP"
      },
      "execution_count": null,
      "outputs": []
    }
  ]
}