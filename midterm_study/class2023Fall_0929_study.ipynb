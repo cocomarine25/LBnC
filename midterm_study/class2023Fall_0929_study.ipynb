{
  "nbformat": 4,
  "nbformat_minor": 0,
  "metadata": {
    "colab": {
      "provenance": [],
      "include_colab_link": true
    },
    "kernelspec": {
      "name": "python3",
      "display_name": "Python 3"
    },
    "language_info": {
      "name": "python"
    }
  },
  "cells": [
    {
      "cell_type": "markdown",
      "metadata": {
        "id": "view-in-github",
        "colab_type": "text"
      },
      "source": [
        "<a href=\"https://colab.research.google.com/github/cocomarine25/LBnC/blob/main/midterm_study/class2023Fall_0929_study.ipynb\" target=\"_parent\"><img src=\"https://colab.research.google.com/assets/colab-badge.svg\" alt=\"Open In Colab\"/></a>"
      ]
    },
    {
      "cell_type": "markdown",
      "source": [
        "# Table of Contents\n",
        "1. [Lecture 1: Reading from and Writing to Files](#lecture1)\n",
        "2. [Lecture 2: Working with Different File Formats (text, CSV, JSON)](#lecture2)\n",
        "3. [Lecture 3: Error Handling and Exception Handling in Python](#lecture3)\n",
        "4. [Lecture 4: Try-Except Blocks and Handling Specific Exceptions](#lecture4)\n",
        "\n",
        "<a name=\"lecture1\"></a>\n",
        "# Lecture 1: Reading from and Writing to Files\n",
        "\n",
        "## Introduction\n",
        "- Importance of file handling\n",
        "- Different modes of file handling\n",
        "\n",
        "## Reading from Files\n",
        "\n",
        "Example:\n",
        "```python\n",
        "# Using open() function\n",
        "with open('sample.txt', 'r') as file:\n",
        "    content = file.read()\n",
        "    print(content)\n",
        "\n",
        "# Using readline() method\n",
        "with open('sample.txt', 'r') as file:\n",
        "    line = file.readline()\n",
        "    print(line)\n",
        "\n",
        "# Using readlines() method\n",
        "with open('sample.txt', 'r') as file:\n",
        "    lines = file.readlines()\n",
        "    for line in lines:\n",
        "        print(line)\n",
        "```\n",
        "\n",
        "## Writing to Files\n",
        "\n",
        "Example:\n",
        "```python\n",
        "# Using write() method\n",
        "with open('sample.txt', 'w') as file:\n",
        "    file.write('Hello World!')\n",
        "\n",
        "# Using writelines() method\n",
        "data = ['Hello', 'World', '!']\n",
        "with open('sample.txt', 'w') as file:\n",
        "    file.writelines(data)\n",
        "```\n",
        "\n",
        "---\n",
        "\n",
        "<a name=\"lecture2\"></a>\n",
        "# Lecture 2: Working with Different File Formats (text, CSV, JSON)\n",
        "\n",
        "## Introduction\n",
        "- Different file formats\n",
        "- Use-cases for text, CSV, and JSON file formats\n",
        "\n",
        "## Working with CSV Files\n",
        "\n",
        "Example:\n",
        "```python\n",
        "import csv\n",
        "\n",
        "# Reading from CSV files\n",
        "with open('sample.csv', 'r') as file:\n",
        "    reader = csv.reader(file)\n",
        "    for row in reader:\n",
        "        print(row)\n",
        "\n",
        "# Writing to CSV files\n",
        "data = [['Name', 'Age'], ['John', 30], ['Doe', 25]]\n",
        "with open('sample.csv', 'w', newline='') as file:\n",
        "    writer = csv.writer(file)\n",
        "    writer.writerows(data)\n",
        "```\n",
        "\n",
        "## Working with JSON Files\n",
        "\n",
        "Example:\n",
        "```python\n",
        "import json\n",
        "\n",
        "# Reading a JSON file\n",
        "with open('sample.json', 'r') as file:\n",
        "    data = json.load(file)\n",
        "    print(data)\n",
        "\n",
        "# Writing to a JSON file\n",
        "data = {'Name': 'John', 'Age': 30}\n",
        "with open('sample.json', 'w') as file:\n",
        "    json.dump(data, file)\n",
        "```\n",
        "\n",
        "---\n",
        "\n",
        "<a name=\"lecture3\"></a>\n",
        "# Lecture 3: Error Handling and Exception Handling in Python\n",
        "\n",
        "## Introduction\n",
        "- Importance of error and exception handling\n",
        "\n",
        "## Handling Exceptions\n",
        "\n",
        "Example:\n",
        "```python\n",
        "# Using try and except blocks\n",
        "try:\n",
        "    result = 10 / 0\n",
        "except ZeroDivisionError:\n",
        "    print(\"You can't divide by zero!\")\n",
        "```\n",
        "\n",
        "---\n",
        "\n",
        "<a name=\"lecture4\"></a>\n",
        "# Lecture 4: Try-Except Blocks and Handling Specific Exceptions\n",
        "\n",
        "## Introduction\n",
        "- Deep dive into try-except blocks\n",
        "\n",
        "## Using Try-Except Blocks\n",
        "\n",
        "Example:\n",
        "```python\n",
        "# Basic usage of try-except blocks\n",
        "try:\n",
        "    result = 10 / 0\n",
        "except ZeroDivisionError:\n",
        "    print(\"You can't divide by zero!\")\n",
        "\n",
        "# Using else clause\n",
        "try:\n",
        "    result = 10 / 2\n",
        "except ZeroDivisionError:\n",
        "    print(\"You can't divide by zero!\")\n",
        "else:\n",
        "    print(f\"The result is {result}\")\n",
        "\n",
        "# Using finally clause\n",
        "try:\n",
        "    result = 10 / 0\n",
        "except ZeroDivisionError:\n",
        "    print(\"You can't divide by zero!\")\n",
        "finally:\n",
        "    print(\"This block will execute no matter what.\")\n",
        "```\n",
        "\n",
        "---\n",
        "\n"
      ],
      "metadata": {
        "id": "Krh48DIfeTde"
      }
    },
    {
      "cell_type": "markdown",
      "source": [
        "**------------------------------코드 연습 시작 !------------------------------**"
      ],
      "metadata": {
        "id": "3J4JclQ6xHKZ"
      }
    },
    {
      "cell_type": "markdown",
      "source": [
        "강의에서는 reading을 먼저하고 그 다음 writing을 하지만 실제로 코드를 작동시켜보면 reading할 수 있는 파일이 존재하지 않기 때문에 writing을 먼저 해야 reading을 할 수 있다."
      ],
      "metadata": {
        "id": "8ysrYYQayfeH"
      }
    },
    {
      "cell_type": "markdown",
      "source": [
        "**Writing to Files**"
      ],
      "metadata": {
        "id": "LUmQmIr3xPOi"
      }
    },
    {
      "cell_type": "code",
      "source": [
        "# Using write() method\n",
        "with open('sample.txt', 'w') as file: # w는 write를 의미한다.\n",
        "    file.write('Hello World!')\n",
        "\n",
        "# Using writelines() method\n",
        "data = ['Hello', 'World', '!!!']\n",
        "with open('sample2.txt', 'w') as file:\n",
        "    file.writelines(data)"
      ],
      "metadata": {
        "id": "QGcHaoqjxTsf"
      },
      "execution_count": 63,
      "outputs": []
    },
    {
      "cell_type": "markdown",
      "source": [
        "**Reading from Files**"
      ],
      "metadata": {
        "id": "X_VfKPKzyFC8"
      }
    },
    {
      "cell_type": "code",
      "source": [
        "# Using open() function\n",
        "with open('sample.txt', 'r') as file:\n",
        "    content = file.read()\n",
        "    print(content)\n",
        "\n",
        "# Using readline() method\n",
        "with open('sample.txt', 'r') as file:\n",
        "    line = file.readline()\n",
        "    print(line)\n",
        "\n",
        "# Using readlines() method\n",
        "with open('sample2.txt', 'r') as file:\n",
        "    lines = file.readlines()\n",
        "    for line in lines:\n",
        "        print(line)"
      ],
      "metadata": {
        "id": "67b3Jbm0xis8",
        "outputId": "b2454323-7313-4a4b-e2cc-d10cd13e2f31",
        "colab": {
          "base_uri": "https://localhost:8080/"
        }
      },
      "execution_count": 64,
      "outputs": [
        {
          "output_type": "stream",
          "name": "stdout",
          "text": [
            "Hello World!\n",
            "Hello World!\n",
            "HelloWorld!!!\n"
          ]
        }
      ]
    },
    {
      "cell_type": "markdown",
      "source": [
        "**Working with CSV Files**"
      ],
      "metadata": {
        "id": "jQf44rPfyaL6"
      }
    },
    {
      "cell_type": "code",
      "source": [
        "import csv\n",
        "\n",
        "# Writing to CSV files\n",
        "data = [['Name', 'Age'], ['John', 30], ['Doe', 25]]\n",
        "with open('sample.csv', 'w', newline='') as file: # newline=''을 사용하여 크로스 플랫폼 호환성을 유지하고 불필요한 줄바꿈 문자가 추가되지 않도록 함\n",
        "    writer = csv.writer(file)\n",
        "    writer.writerows(data)\n",
        "\n",
        "# Reading from CSV files\n",
        "with open('sample.csv', 'r') as file:\n",
        "    reader = csv.reader(file)\n",
        "    for row in reader:\n",
        "        print(row)"
      ],
      "metadata": {
        "id": "a-lnAhKqxmiX",
        "outputId": "938f5f0f-fa6d-4a85-b6ca-0c1468c82885",
        "colab": {
          "base_uri": "https://localhost:8080/"
        }
      },
      "execution_count": 65,
      "outputs": [
        {
          "output_type": "stream",
          "name": "stdout",
          "text": [
            "['Name', 'Age']\n",
            "['John', '30']\n",
            "['Doe', '25']\n"
          ]
        }
      ]
    },
    {
      "cell_type": "markdown",
      "source": [
        "**Working with JSON Files**"
      ],
      "metadata": {
        "id": "d2-_oEbTz1aC"
      }
    },
    {
      "cell_type": "code",
      "source": [
        "import json\n",
        "\n",
        "# Writing to a JSON file\n",
        "data = {'Name': 'John', 'Age': 30}\n",
        "with open('sample.json', 'w') as file:\n",
        "    json.dump(data, file)\n",
        "\n",
        "# Reading a JSON file\n",
        "with open('sample.json', 'r') as file:\n",
        "    data = json.load(file)\n",
        "    print(data)"
      ],
      "metadata": {
        "id": "x3nN2cBNzjU8",
        "outputId": "8869cb0c-df27-474b-bddc-7840fcde150c",
        "colab": {
          "base_uri": "https://localhost:8080/"
        }
      },
      "execution_count": 66,
      "outputs": [
        {
          "output_type": "stream",
          "name": "stdout",
          "text": [
            "{'Name': 'John', 'Age': 30}\n"
          ]
        }
      ]
    },
    {
      "cell_type": "markdown",
      "source": [
        "**Error Handling and Exception Handling in Python, 파이썬의 오류 처리 및 예외 처리**"
      ],
      "metadata": {
        "id": "GG8QT7Ms0yCm"
      }
    },
    {
      "cell_type": "code",
      "source": [
        "# Using try and except blocks\n",
        "# 예외 처리는 프로그램이 예외 상황에서 비정상적으로 종료하는 것을 방지\n",
        "try:\n",
        "    result = 10 / 0\n",
        "except ZeroDivisionError:\n",
        "    print(\"You can't divide by zero!\")\n",
        "\n",
        "# result에서 나누어 진다면 문장이 프린트되지 않음"
      ],
      "metadata": {
        "id": "bKT1010Gz7XD",
        "outputId": "b241ff51-9e21-489b-8e66-5cc4e74da965",
        "colab": {
          "base_uri": "https://localhost:8080/"
        }
      },
      "execution_count": 67,
      "outputs": [
        {
          "output_type": "stream",
          "name": "stdout",
          "text": [
            "You can't divide by zero!\n"
          ]
        }
      ]
    },
    {
      "cell_type": "markdown",
      "source": [
        "**Try-Except Blocks and Handling Specific Exceptions, 시도-제외 블록과 특정 예외 처리**"
      ],
      "metadata": {
        "id": "RRFKJHEG2zaJ"
      }
    },
    {
      "cell_type": "code",
      "source": [
        "# Basic usage of try-except blocks\n",
        "try:\n",
        "    result = 10 / 0\n",
        "except ZeroDivisionError:\n",
        "    print(\"You can't divide by zero!\")"
      ],
      "metadata": {
        "id": "hg2CgZPf08LF",
        "outputId": "0695c37b-b242-41fc-de6c-30aec65f0fd3",
        "colab": {
          "base_uri": "https://localhost:8080/"
        }
      },
      "execution_count": 68,
      "outputs": [
        {
          "output_type": "stream",
          "name": "stdout",
          "text": [
            "You can't divide by zero!\n"
          ]
        }
      ]
    },
    {
      "cell_type": "code",
      "source": [
        "# Using else clause\n",
        "try:\n",
        "    result = 10 / 2\n",
        "except ZeroDivisionError:\n",
        "    print(\"You can't divide by zero!\")\n",
        "else:\n",
        "    print(f\"The result is {result}\")\n",
        "    print(\"The result is\", result) # 이렇게 해도 결과는 같음"
      ],
      "metadata": {
        "id": "Er0xVG4L3Ds6",
        "outputId": "2c9bf559-e819-469e-c11e-26186b76e6ad",
        "colab": {
          "base_uri": "https://localhost:8080/"
        }
      },
      "execution_count": 69,
      "outputs": [
        {
          "output_type": "stream",
          "name": "stdout",
          "text": [
            "The result is 5.0\n",
            "The result is 5.0\n"
          ]
        }
      ]
    },
    {
      "cell_type": "code",
      "source": [
        "# Using finally clause\n",
        "try:\n",
        "    result = 10 / 0\n",
        "except ZeroDivisionError:\n",
        "    print(\"You can't divide by zero!\")\n",
        "finally:\n",
        "    print(\"This block will execute no matter what.\")\n",
        "\n",
        "# result에서 나누어지면 except의 문장은 print되지 않음"
      ],
      "metadata": {
        "id": "C4fh5ZNU3FVs",
        "outputId": "ccf88b2e-2351-4788-857c-c80e4c41576c",
        "colab": {
          "base_uri": "https://localhost:8080/"
        }
      },
      "execution_count": 70,
      "outputs": [
        {
          "output_type": "stream",
          "name": "stdout",
          "text": [
            "You can't divide by zero!\n",
            "This block will execute no matter what.\n"
          ]
        }
      ]
    },
    {
      "cell_type": "code",
      "source": [],
      "metadata": {
        "id": "9RAqcHUx3GVw"
      },
      "execution_count": 62,
      "outputs": []
    }
  ]
}