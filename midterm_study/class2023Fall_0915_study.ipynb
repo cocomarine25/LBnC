{
  "nbformat": 4,
  "nbformat_minor": 0,
  "metadata": {
    "colab": {
      "provenance": [],
      "include_colab_link": true
    },
    "kernelspec": {
      "name": "python3",
      "display_name": "Python 3"
    },
    "language_info": {
      "name": "python"
    }
  },
  "cells": [
    {
      "cell_type": "markdown",
      "metadata": {
        "id": "view-in-github",
        "colab_type": "text"
      },
      "source": [
        "<a href=\"https://colab.research.google.com/github/cocomarine25/LBnC/blob/main/midterm_study/class2023Fall_0915_study.ipynb\" target=\"_parent\"><img src=\"https://colab.research.google.com/assets/colab-badge.svg\" alt=\"Open In Colab\"/></a>"
      ]
    },
    {
      "cell_type": "markdown",
      "source": [
        "## 1. Conditional Statements (if, elif, else)\n",
        "\n",
        "Conditional statements in Python allow you to test a condition and perform different actions depending on whether the condition is `True` or `False`.\n",
        "\n",
        "**Syntax:**\n",
        "```python\n",
        "if condition:\n",
        "    # execute this block of code\n",
        "elif another_condition:\n",
        "    # execute this block of code\n",
        "else:\n",
        "    # if none of the above conditions are true, execute this block\n",
        "```\n",
        "\n",
        "**Example:**\n",
        "```python\n",
        "x = 10\n",
        "if x < 5:\n",
        "    print(\"x is less than 5\")\n",
        "elif x == 5:\n",
        "    print(\"x is 5\")\n",
        "else:\n",
        "    print(\"x is greater than 5\")\n",
        "```\n",
        "\n",
        "## 2. Looping Structures (for and while loops)\n",
        "\n",
        "Loops are used to repeatedly execute a block of code. Python provides two primary looping structures: `for` and `while`.\n",
        "\n",
        "**For Loop:**\n",
        "```python\n",
        "for item in sequence:\n",
        "    # execute this block of code for each item in the sequence\n",
        "```\n",
        "\n",
        "**Example:**\n",
        "```python\n",
        "fruits = [\"apple\", \"banana\", \"cherry\"]\n",
        "for fruit in fruits:\n",
        "    print(fruit)\n",
        "```\n",
        "\n",
        "**While Loop:**\n",
        "```python\n",
        "while condition:\n",
        "    # execute this block of code as long as the condition is true\n",
        "```\n",
        "\n",
        "**Example:**\n",
        "```python\n",
        "count = 0\n",
        "while count < 5:\n",
        "    print(count)\n",
        "    count += 1\n",
        "```\n",
        "\n",
        "## 3. Functions and their parameters\n",
        "\n",
        "A function is a block of code that only runs when it is called. You can pass data, known as parameters, into a function. A function can return data as a result.\n",
        "\n",
        "**Syntax:**\n",
        "```python\n",
        "def function_name(parameters):\n",
        "    # block of code\n",
        "    return result\n",
        "```\n",
        "\n",
        "**Example:**\n",
        "```python\n",
        "def greet(name):\n",
        "    return f\"Hello, {name}!\"\n",
        "\n",
        "print(greet(\"Alice\"))\n",
        "```\n",
        "\n",
        "**Parameters vs Arguments:**\n",
        "\n",
        "* **Parameters** are the names listed in the function's definition.\n",
        "* **Arguments** are the values sent to the function when it is called.\n",
        "\n",
        "## 4. Scope and Variable Visibility\n",
        "\n",
        "In Python, a variable's scope determines where you can access that variable. There are two main types of scopes:\n",
        "\n",
        "* **Local Scope:** A variable declared inside a function has a local scope and is only accessible inside that function.\n",
        "* **Global Scope:** A variable declared outside any function has a global scope and is accessible from any function in the code.\n",
        "\n",
        "**Example:**\n",
        "```python\n",
        "# This is a global variable\n",
        "x = 10\n",
        "\n",
        "def my_function():\n",
        "    # This is a local variable\n",
        "    y = 5\n",
        "    print(x)  # This will print 10 (global variable)\n",
        "    print(y)  # This will print 5 (local variable)\n",
        "\n",
        "my_function()\n",
        "\n",
        "# print(y)  # This will cause an error because y is not accessible outside the function\n",
        "```\n",
        "\n",
        "**Note:** You can use the `global` keyword to modify a global variable from inside a function.\n",
        "\n"
      ],
      "metadata": {
        "id": "S8hBMAK-PWVu"
      }
    },
    {
      "cell_type": "markdown",
      "source": [
        "**---------------------코드 연습 시작 !---------------------**"
      ],
      "metadata": {
        "id": "oYaPhi_Jd4Iv"
      }
    },
    {
      "cell_type": "markdown",
      "source": [
        "**Conditional Statements (if, elif, else)**"
      ],
      "metadata": {
        "id": "r8Fg9M7zdqnK"
      }
    },
    {
      "cell_type": "code",
      "source": [
        "x = 10\n",
        "\n",
        "if x < 5:\n",
        "    print(\"x is less than 5\")\n",
        "elif x == 5:\n",
        "    print(\"x is 5\")\n",
        "else:\n",
        "    print(\"x is greater than 5\")"
      ],
      "metadata": {
        "id": "4omF3wT-dsU1",
        "outputId": "18ff5c90-d420-405a-e444-c027ca4e3d78",
        "colab": {
          "base_uri": "https://localhost:8080/"
        }
      },
      "execution_count": 25,
      "outputs": [
        {
          "output_type": "stream",
          "name": "stdout",
          "text": [
            "x is greater than 5\n"
          ]
        }
      ]
    },
    {
      "cell_type": "markdown",
      "source": [
        "**Looping Structures (for and while loops)**"
      ],
      "metadata": {
        "id": "35F3RnlAeOFr"
      }
    },
    {
      "cell_type": "code",
      "source": [
        "fruits = [\"apple\", \"banana\", \"cherry\"]\n",
        "\n",
        "for fruit in fruits:\n",
        "  print(fruit)"
      ],
      "metadata": {
        "id": "fEXghgtFd97Q",
        "outputId": "06546c53-4dac-4c19-b110-65e70f75a3ed",
        "colab": {
          "base_uri": "https://localhost:8080/"
        }
      },
      "execution_count": 26,
      "outputs": [
        {
          "output_type": "stream",
          "name": "stdout",
          "text": [
            "apple\n",
            "banana\n",
            "cherry\n"
          ]
        }
      ]
    },
    {
      "cell_type": "code",
      "source": [
        "count = 0\n",
        "\n",
        "while count < 5:\n",
        "  print(count)\n",
        "\n",
        "  count += 1 # print보다 앞쪽에 있으면 코드가 무한히 실행됨"
      ],
      "metadata": {
        "id": "LxvqgUcIeYsb",
        "outputId": "ae2ea7bf-123e-4a11-b44e-29a5fa9b457b",
        "colab": {
          "base_uri": "https://localhost:8080/"
        }
      },
      "execution_count": 27,
      "outputs": [
        {
          "output_type": "stream",
          "name": "stdout",
          "text": [
            "0\n",
            "1\n",
            "2\n",
            "3\n",
            "4\n"
          ]
        }
      ]
    },
    {
      "cell_type": "markdown",
      "source": [
        "**Functions and their parameters**"
      ],
      "metadata": {
        "id": "SycMb3BhfO9h"
      }
    },
    {
      "cell_type": "code",
      "source": [
        "def greet(name):\n",
        "    return f\"Hello, {name}!\"\n",
        "\n",
        "print(greet(\"Alice\"))"
      ],
      "metadata": {
        "id": "tmcZqXW5exZ_",
        "outputId": "57aaec85-cf52-41cc-c683-b8e67621ad4f",
        "colab": {
          "base_uri": "https://localhost:8080/"
        }
      },
      "execution_count": 28,
      "outputs": [
        {
          "output_type": "stream",
          "name": "stdout",
          "text": [
            "Hello, Alice!\n"
          ]
        }
      ]
    },
    {
      "cell_type": "markdown",
      "source": [
        "**Scope and Variable Visibility**"
      ],
      "metadata": {
        "id": "8c5mJL94gHsv"
      }
    },
    {
      "cell_type": "code",
      "source": [
        "# This is a global variable\n",
        "x = 10\n",
        "\n",
        "def my_function():\n",
        "    # This is a local variable\n",
        "    y = 5\n",
        "    print(x)  # This will print 10 (global variable)\n",
        "    print(y)  # This will print 5 (local variable)\n",
        "\n",
        "my_function()\n",
        "print(x)\n",
        "# print(y)  # This will cause an error because y is not accessible outside the function"
      ],
      "metadata": {
        "id": "GYkM04QGfvEa",
        "outputId": "a505b8b2-a5c8-4f28-fb17-c3e98eeb8301",
        "colab": {
          "base_uri": "https://localhost:8080/"
        }
      },
      "execution_count": 29,
      "outputs": [
        {
          "output_type": "stream",
          "name": "stdout",
          "text": [
            "10\n",
            "5\n",
            "10\n"
          ]
        }
      ]
    },
    {
      "cell_type": "code",
      "source": [
        "x = 10\n",
        "\n",
        "def my_function():\n",
        "    y = 5\n",
        "    print(x)\n",
        "    print(y)\n",
        "\n",
        "print(x)\n",
        "# print(y) # error"
      ],
      "metadata": {
        "id": "lUJB5EYaf-Yb",
        "outputId": "72db4b07-39a7-44b4-c040-497c7db402d8",
        "colab": {
          "base_uri": "https://localhost:8080/"
        }
      },
      "execution_count": 30,
      "outputs": [
        {
          "output_type": "stream",
          "name": "stdout",
          "text": [
            "10\n"
          ]
        }
      ]
    },
    {
      "cell_type": "code",
      "source": [],
      "metadata": {
        "id": "VVf4QBqmgkQX"
      },
      "execution_count": null,
      "outputs": []
    }
  ]
}